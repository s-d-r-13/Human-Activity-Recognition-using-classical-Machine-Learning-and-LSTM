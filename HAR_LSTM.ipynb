{
 "cells": [
  {
   "cell_type": "code",
   "execution_count": 1,
   "metadata": {},
   "outputs": [
    {
     "data": {
      "text/html": [
       "<style>.container { width:100% !important; }</style>"
      ],
      "text/plain": [
       "<IPython.core.display.HTML object>"
      ]
     },
     "metadata": {},
     "output_type": "display_data"
    }
   ],
   "source": [
    "from IPython.core.display import display, HTML\n",
    "display(HTML(\"<style>.container { width:100% !important; }</style>\"))\n",
    "\n",
    "import pandas as pd\n",
    "import numpy as np\n",
    "import warnings\n",
    "warnings.filterwarnings(\"ignore\")"
   ]
  },
  {
   "cell_type": "markdown",
   "metadata": {},
   "source": [
    "### LSTMs for Human Activity Recognition\n",
    "\n",
    "Human Activity Recognition (HAR) using smartphones dataset and an LSTM RNN. Classifying the type of movement amongst six categories:\n",
    "\n",
    "1. WALKING,\n",
    "2. WALKING_UPSTAIRS,\n",
    "3. WALKING_DOWNSTAIRS,\n",
    "4. SITTING,\n",
    "5. STANDING,\n",
    "6. LAYING.\n",
    "\n",
    "Compared to the classical Machine Learning approaches, Recurrent Neural Networks (RNN) with Long Short-Term Memory cells (LSTMs) require no or almost no feature engineering at all. Remember, we needed a lot of feature engineering to be done in for our Machine Learning models to achieve the accuracy it has! (96% max). In RNN-LSTMs, raw data can be fed directly into the neural network which acts like a black box, without ay feature engineering whatsoever! Other research in this topic of activity recognition uses a huge amount of feature engineering, which are signal processing approaches combined with classical Machine Learning/Data Science techniques. The approach here is rather very simple in terms of how much was the data preprocessed. Almost none. All we need to take care is how we design our Deep Learning models.\n",
    "\n",
    "We will TensorFlow and Keras Libraries to demonstrate the usage of an LSTM, a type of Artificial Neural Network that can process sequential data / time series data.\n",
    "\n",
    "### How the data was recorded?\n",
    "\n",
    "Please watch this Youtube video link I have attached below to see how the data was recorded.\n",
    "\n",
    "<p align=\"center\">\n",
    "  <a href=\"http://www.youtube.com/watch?feature=player_embedded&v=XOEN9W05_4A\n",
    "\" target=\"_blank\"><img src=\"http://img.youtube.com/vi/XOEN9W05_4A/0.jpg\" \n",
    "alt=\"Video of the experiment\" width=\"400\" height=\"300\" border=\"10\" /></a>\n",
    "  <a href=\"https://youtu.be/XOEN9W05_4A\"><center>[Watch video]</center></a>\n",
    "</p>\n",
    "\n",
    "### Details about the input data\n",
    "\n",
    "I will be using a special type of Recurrent Neural Network called LSTM on the dataset to learn (as a cellphone attached on the waist) to recognise what type of activity the user is doing. Few very important points about the dataset are as follows:\n",
    "\n",
    "1. These sensor signals are preprocessed by applying noise filters and then sampled in fixed-width windows(sliding windows) of 2.56 seconds each with 50% overlap. ie., each window has 128 readings. \n",
    "2. From Each window, a feature vector was obtianed by calculating variables from the time and frequency domain. In our dataset, each datapoint represents a window with different readings \n",
    "3. The accelertion signal was saperated into Body and Gravity acceleration signals(___tBodyAcc-XYZ___ and ___tGravityAcc-XYZ___) using some low pass filter with corner frequecy of 0.3Hz.\n",
    "\n",
    "4. After that, the body linear acceleration and angular velocity were derived in time to obtian _jerk signals_ (___tBodyAccJerk-XYZ___ and ___tBodyGyroJerk-XYZ___). \n",
    "\n",
    "5. The magnitude of these 3-dimensional signals were calculated using the Euclidian norm. This magnitudes are represented as features with names like _tBodyAccMag_, _tGravityAccMag_, _tBodyAccJerkMag_, _tBodyGyroMag_ and _tBodyGyroJerkMag_.\n",
    "\n",
    "6. Finally, We've got frequency domain signals from some of the available signals by applying a FFT (Fast Fourier Transform). These signals obtained were labeled with ___prefix 'f'___ just like original signals with ___prefix 't'___. These signals are labeled as ___fBodyAcc-XYZ___, ___fBodyGyroMag___ etc.,.\n",
    "\n",
    "7. These are the signals that we got so far.\n",
    "\t+ tBodyAcc-XYZ\n",
    "\t+ tGravityAcc-XYZ\n",
    "\t+ tBodyAccJerk-XYZ\n",
    "\t+ tBodyGyro-XYZ\n",
    "\t+ tBodyGyroJerk-XYZ\n",
    "\t+ tBodyAccMag\n",
    "\t+ tGravityAccMag\n",
    "\t+ tBodyAccJerkMag\n",
    "\t+ tBodyGyroMag\n",
    "\t+ tBodyGyroJerkMag\n",
    "\t+ fBodyAcc-XYZ\n",
    "\t+ fBodyAccJerk-XYZ\n",
    "\t+ fBodyGyro-XYZ\n",
    "\t+ fBodyAccMag\n",
    "\t+ fBodyAccJerkMag\n",
    "\t+ fBodyGyroMag\n",
    "\t+ fBodyGyroJerkMag\n",
    "\n",
    "\n",
    "###  Y_Labels(Encoded)\n",
    "+ In the dataset, Y_labels are represented as numbers from 1 to 6 as their identifiers.\n",
    "\n",
    "\t- WALKING as __1__\n",
    "\t- WALKING_UPSTAIRS as __2__\n",
    "\t- WALKING_DOWNSTAIRS as __3__\n",
    "\t- SITTING as __4__\n",
    "\t- STANDING as __5__\n",
    "\t- LAYING as __6__\n",
    "\n",
    "### What is an RNN?\n",
    "\n",
    "For details about what RNNs are please visit this wonderful article written by Andrej Karpathy titled \"The Unreasonable Effectiveness of Recurrent Neural Networks\". As explained in [this article](http://karpathy.github.io/2015/05/21/rnn-effectiveness/), an RNN takes many input vectors to process them and output other vectors. It can be roughly pictured like in the image below, imagining each rectangle has a vectorial depth and other special hidden quirks in the image below. **In our case, the \"many to one\" architecture is used**: we accept time series of feature vectors (one vector per time step) to convert them to a probability vector at the output for classification. Note that a \"one to one\" architecture would be a standard feedforward neural network. \n",
    "\n",
    "> <a href=\"http://karpathy.github.io/2015/05/21/rnn-effectiveness/\" ><img src=\"http://karpathy.github.io/assets/rnn/diags.jpeg\" /></a>\n",
    "> http://karpathy.github.io/2015/05/21/rnn-effectiveness/\n",
    "\n",
    "### What is an LSTM?\n",
    "\n",
    "An LSTM is an improved RNN. It is more complex, but easier to train, avoiding what is called the vanishing gradient problem. I recommend [this article](http://colah.github.io/posts/2015-08-Understanding-LSTMs/) for you to learn more on LSTMs.\n"
   ]
  },
  {
   "cell_type": "markdown",
   "metadata": {},
   "source": [
    "### Take the class labels into a Dictionary"
   ]
  },
  {
   "cell_type": "code",
   "execution_count": 2,
   "metadata": {},
   "outputs": [],
   "source": [
    "# Activities are the class labels\n",
    "# It is a 6 class classification\n",
    "ACTIVITIES = {\n",
    "    0: 'WALKING',\n",
    "    1: 'WALKING_UPSTAIRS',\n",
    "    2: 'WALKING_DOWNSTAIRS',\n",
    "    3: 'SITTING',\n",
    "    4: 'STANDING',\n",
    "    5: 'LAYING',\n",
    "}"
   ]
  },
  {
   "cell_type": "markdown",
   "metadata": {},
   "source": [
    "### Utility functions to obtain the train and test data"
   ]
  },
  {
   "cell_type": "code",
   "execution_count": 3,
   "metadata": {},
   "outputs": [],
   "source": [
    "# Data directory\n",
    "DATADIR = 'UCI_HAR_Dataset'"
   ]
  },
  {
   "cell_type": "code",
   "execution_count": 4,
   "metadata": {},
   "outputs": [],
   "source": [
    "# Raw data signals\n",
    "# Signals are from Accelerometer and Gyroscope\n",
    "# The signals are in x,y,z directions\n",
    "# Sensor signals are filtered to have only body acceleration\n",
    "# excluding the acceleration due to gravity\n",
    "# Triaxial acceleration from the accelerometer is total acceleration\n",
    "SIGNALS = [\n",
    "    \"body_acc_x\",\n",
    "    \"body_acc_y\",\n",
    "    \"body_acc_z\",\n",
    "    \"body_gyro_x\",\n",
    "    \"body_gyro_y\",\n",
    "    \"body_gyro_z\",\n",
    "    \"total_acc_x\",\n",
    "    \"total_acc_y\",\n",
    "    \"total_acc_z\"\n",
    "]"
   ]
  },
  {
   "cell_type": "code",
   "execution_count": 5,
   "metadata": {},
   "outputs": [],
   "source": [
    "# Utility function to read the data from csv file\n",
    "def _read_csv(filename):\n",
    "    return pd.read_csv(filename, delim_whitespace=True, header=None)\n",
    "\n",
    "# Utility function to load the signal data\n",
    "def load_signals(subset):\n",
    "    signals_data = []\n",
    "\n",
    "    for signal in SIGNALS:\n",
    "        filename = f'{DATADIR}/{subset}/Inertial Signals/{signal}_{subset}.txt'\n",
    "        signals_data.append(_read_csv(filename).as_matrix()) \n",
    "\n",
    "    # Transpose is used to change the dimensionality of the output,\n",
    "    # aggregating the signals by combination of sample/timestep.\n",
    "    # Resultant shape is (7352 train/2947 test samples, 128 timesteps, 9 signals)\n",
    "    return np.transpose(signals_data, (1, 2, 0))"
   ]
  },
  {
   "cell_type": "code",
   "execution_count": 6,
   "metadata": {},
   "outputs": [],
   "source": [
    "def load_y(subset):\n",
    "    \"\"\"\n",
    "    The objective that we are trying to predict is a integer, from 1 to 6,\n",
    "    that represents a human activity. We return a binary representation of \n",
    "    every sample objective as a 6 bits vector using One Hot Encoding\n",
    "    (https://pandas.pydata.org/pandas-docs/stable/generated/pandas.get_dummies.html)\n",
    "    \"\"\"\n",
    "    filename = f'{DATADIR}/{subset}/y_{subset}.txt'\n",
    "    y = _read_csv(filename)[0]\n",
    "    \n",
    "    return pd.get_dummies(y).as_matrix()"
   ]
  },
  {
   "cell_type": "code",
   "execution_count": 7,
   "metadata": {},
   "outputs": [],
   "source": [
    "def load_data():\n",
    "    \"\"\"\n",
    "    Obtain the dataset from multiple files.\n",
    "    Returns: X_train, X_test, y_train, y_test\n",
    "    \"\"\"\n",
    "    X_train, X_test = load_signals('train'), load_signals('test')\n",
    "    y_train, y_test = load_y('train'), load_y('test')\n",
    "\n",
    "    return X_train, X_test, y_train, y_test"
   ]
  },
  {
   "cell_type": "markdown",
   "metadata": {},
   "source": [
    "### Utility functions to assess model performance"
   ]
  },
  {
   "cell_type": "code",
   "execution_count": 8,
   "metadata": {},
   "outputs": [],
   "source": [
    "#Train vs Test loss\n",
    "import matplotlib.pyplot as plt\n",
    "import numpy as np\n",
    "from sklearn.metrics import confusion_matrix\n",
    "import itertools\n",
    "\n",
    "#This function is used to plot/update the train and test loss after each epoch.\n",
    "def plt_dynamic_loss(x, vy, ty, ax, colors=['b']):\n",
    "    #plt.figure(figsize=(7,7))\n",
    "    ax.plot(x, vy, 'b', label=\"Validation Loss\")\n",
    "    ax.plot(x, ty, 'r', label=\"Train Loss\")\n",
    "    plt.legend()\n",
    "    plt.grid()\n",
    "    fig.canvas.draw()\n",
    "\n",
    "#Utility function to plot the confusion matrices\n",
    "#https://scikit-learn.org/stable/modules/generated/sklearn.metrics.confusion_matrix.html\n",
    "def plot_confusion_matrix(cm_df, classes, normalize, title):\n",
    "    if normalize:\n",
    "        cm = cm_df.values\n",
    "        cm = cm.astype('float') / cm.sum(axis=1)[:, np.newaxis]\n",
    "        \n",
    "        plt.figure(figsize = (7,7))\n",
    "        plt.imshow(cm, interpolation='nearest', cmap=plt.cm.Greens)\n",
    "        plt.title(title)\n",
    "        plt.colorbar()\n",
    "        tick_marks = np.arange(len(classes))\n",
    "        plt.xticks(tick_marks, classes, rotation=90)\n",
    "        plt.yticks(tick_marks, classes)\n",
    "\n",
    "        fmt = '.2f' if normalize else 'd'\n",
    "        thresh = cm.max() / 2.\n",
    "        for i, j in itertools.product(range(cm.shape[0]), range(cm.shape[1])):\n",
    "            plt.text(j, i, format(cm[i, j], fmt),horizontalalignment=\"center\",color=\"white\" if cm[i, j] > thresh else \"black\")\n",
    "        plt.tight_layout()\n",
    "        plt.xlabel('Predicted labels')\n",
    "        plt.ylabel('True labels')\n",
    "    \n",
    "    else:\n",
    "        import seaborn as sn\n",
    "        plt.figure(figsize = (6,5))\n",
    "        ax = sn.heatmap(cm_df, annot=True, fmt='d', cmap=plt.cm.Blues)   #fmt='d' for decimal integer.\n",
    "        ax.set_xlabel(\"Predicted Labels\")\n",
    "        ax.set_ylabel(\"True Labels\")\n",
    "        ax.set_title(title)\n",
    "\n",
    "#Utility function to design the confusion matrix DF\n",
    "def get_confusion_matrix(Y_true, Y_pred):\n",
    "    Y_true = pd.Series([ACTIVITIES[y] for y in np.argmax(Y_true, axis=1)])\n",
    "    Y_pred = pd.Series([ACTIVITIES[y] for y in np.argmax(Y_pred, axis=1)])\n",
    "    cm_df =  pd.crosstab(Y_true, Y_pred, rownames=['True'], colnames=['Pred'])\n",
    "    return cm_df"
   ]
  },
  {
   "cell_type": "markdown",
   "metadata": {},
   "source": [
    "### Start building a Deep Learning model using TensorFlow"
   ]
  },
  {
   "cell_type": "code",
   "execution_count": 9,
   "metadata": {},
   "outputs": [],
   "source": [
    "# Importing tensorflow\n",
    "np.random.seed(42)\n",
    "import tensorflow as tf\n",
    "tf.set_random_seed(42)"
   ]
  },
  {
   "cell_type": "code",
   "execution_count": 10,
   "metadata": {},
   "outputs": [],
   "source": [
    "# Configuring a session\n",
    "session_conf = tf.ConfigProto(intra_op_parallelism_threads=1,inter_op_parallelism_threads=1)"
   ]
  },
  {
   "cell_type": "code",
   "execution_count": 11,
   "metadata": {},
   "outputs": [
    {
     "name": "stderr",
     "output_type": "stream",
     "text": [
      "Using TensorFlow backend.\n"
     ]
    }
   ],
   "source": [
    "# Import Keras\n",
    "from keras import backend as K\n",
    "sess = tf.Session(graph=tf.get_default_graph(), config=session_conf)\n",
    "K.set_session(sess)"
   ]
  },
  {
   "cell_type": "code",
   "execution_count": 12,
   "metadata": {},
   "outputs": [],
   "source": [
    "# Importing libraries\n",
    "from keras.models import Sequential\n",
    "from keras.layers import LSTM\n",
    "from keras.layers.core import Dense, Dropout"
   ]
  },
  {
   "cell_type": "code",
   "execution_count": 13,
   "metadata": {},
   "outputs": [],
   "source": [
    "# Utility function to count the number of classes\n",
    "def _count_classes(y):\n",
    "    return len(set([tuple(category) for category in y]))"
   ]
  },
  {
   "cell_type": "code",
   "execution_count": 14,
   "metadata": {},
   "outputs": [],
   "source": [
    "# Loading the train and test data\n",
    "X_train, X_test, y_train, y_test = load_data()"
   ]
  },
  {
   "cell_type": "code",
   "execution_count": 15,
   "metadata": {},
   "outputs": [
    {
     "data": {
      "text/plain": [
       "(7352, 128, 9)"
      ]
     },
     "execution_count": 15,
     "metadata": {},
     "output_type": "execute_result"
    }
   ],
   "source": [
    "X_train.shape #X_train contains 7352 entries. Each data point has 9 distinct features. Each feature is represented by a 128 dimensional vector"
   ]
  },
  {
   "cell_type": "code",
   "execution_count": 16,
   "metadata": {},
   "outputs": [
    {
     "data": {
      "text/plain": [
       "array([[ 1.808515e-04,  1.076681e-02,  5.556068e-02, ...,  1.012817e+00,\n",
       "        -1.232167e-01,  1.029341e-01],\n",
       "       [ 1.013856e-02,  6.579480e-03,  5.512483e-02, ...,  1.022833e+00,\n",
       "        -1.268756e-01,  1.056872e-01],\n",
       "       [ 9.275574e-03,  8.928878e-03,  4.840473e-02, ...,  1.022028e+00,\n",
       "        -1.240037e-01,  1.021025e-01],\n",
       "       ...,\n",
       "       [-1.147484e-03,  1.714439e-04,  2.647864e-03, ...,  1.018445e+00,\n",
       "        -1.240696e-01,  1.003852e-01],\n",
       "       [-2.222655e-04,  1.574181e-03,  2.381057e-03, ...,  1.019372e+00,\n",
       "        -1.227451e-01,  9.987355e-02],\n",
       "       [ 1.575500e-03,  3.070189e-03, -2.269757e-03, ...,  1.021171e+00,\n",
       "        -1.213260e-01,  9.498741e-02]])"
      ]
     },
     "execution_count": 16,
     "metadata": {},
     "output_type": "execute_result"
    }
   ],
   "source": [
    "#Vector representation of a single feature\n",
    "X_train[0]"
   ]
  },
  {
   "cell_type": "code",
   "execution_count": 17,
   "metadata": {},
   "outputs": [
    {
     "data": {
      "text/plain": [
       "array([ 1.808515e-04,  1.076681e-02,  5.556068e-02,  3.019122e-02,\n",
       "        6.601362e-02,  2.285864e-02,  1.012817e+00, -1.232167e-01,\n",
       "        1.029341e-01])"
      ]
     },
     "execution_count": 17,
     "metadata": {},
     "output_type": "execute_result"
    }
   ],
   "source": [
    "#Number of features for one datapoint\n",
    "X_train[0][0]"
   ]
  },
  {
   "cell_type": "code",
   "execution_count": 18,
   "metadata": {},
   "outputs": [
    {
     "name": "stdout",
     "output_type": "stream",
     "text": [
      "128\n",
      "9\n",
      "7352\n"
     ]
    }
   ],
   "source": [
    "#Documentation\n",
    "timesteps = len(X_train[0])\n",
    "input_dim = len(X_train[0][0])\n",
    "n_classes = _count_classes(y_train)\n",
    "\n",
    "print(timesteps)\n",
    "print(input_dim)\n",
    "print(len(X_train))"
   ]
  },
  {
   "cell_type": "markdown",
   "metadata": {},
   "source": [
    "### 1. Defining the Architecture of LSTM. This is our baseline model with 32 LSTM Units."
   ]
  },
  {
   "cell_type": "code",
   "execution_count": 20,
   "metadata": {},
   "outputs": [
    {
     "name": "stdout",
     "output_type": "stream",
     "text": [
      "_________________________________________________________________\n",
      "Layer (type)                 Output Shape              Param #   \n",
      "=================================================================\n",
      "lstm_2 (LSTM)                (None, 32)                5376      \n",
      "_________________________________________________________________\n",
      "dropout_2 (Dropout)          (None, 32)                0         \n",
      "_________________________________________________________________\n",
      "dense_2 (Dense)              (None, 6)                 198       \n",
      "=================================================================\n",
      "Total params: 5,574\n",
      "Trainable params: 5,574\n",
      "Non-trainable params: 0\n",
      "_________________________________________________________________\n"
     ]
    }
   ],
   "source": [
    "import warnings\n",
    "warnings.filterwarnings(\"ignore\")\n",
    "\n",
    "# Initializing parameters\n",
    "epochs = 30\n",
    "batch_size = 16\n",
    "n_hidden = 32 #32 LSTM Units\n",
    "\n",
    "# Initiliazing the sequential model1\n",
    "model1 = Sequential()\n",
    "# Configuring the parameters\n",
    "model1.add(LSTM(n_hidden, input_shape=(timesteps, input_dim)))\n",
    "# Adding a dropout layer\n",
    "model1.add(Dropout(0.5))\n",
    "# Adding a dense output layer with sigmoid activation\n",
    "model1.add(Dense(n_classes, activation='sigmoid'))\n",
    "model1.summary()"
   ]
  },
  {
   "cell_type": "markdown",
   "metadata": {},
   "source": [
    "### Compiling and Training the model"
   ]
  },
  {
   "cell_type": "code",
   "execution_count": 21,
   "metadata": {},
   "outputs": [],
   "source": [
    "# Compiling the model\n",
    "model1.compile(loss='categorical_crossentropy', optimizer='rmsprop', metrics=['accuracy'])"
   ]
  },
  {
   "cell_type": "code",
   "execution_count": 23,
   "metadata": {
    "scrolled": false
   },
   "outputs": [
    {
     "name": "stdout",
     "output_type": "stream",
     "text": [
      "Train on 7352 samples, validate on 2947 samples\n",
      "Epoch 1/30\n",
      "7352/7352 [==============================] - 55s 7ms/step - loss: 1.3914 - acc: 0.3570 - val_loss: 1.3154 - val_acc: 0.3505\n",
      "Epoch 2/30\n",
      "7352/7352 [==============================] - 54s 7ms/step - loss: 1.1624 - acc: 0.4656 - val_loss: 1.2046 - val_acc: 0.4506\n",
      "Epoch 3/30\n",
      "7352/7352 [==============================] - 54s 7ms/step - loss: 1.0288 - acc: 0.5325 - val_loss: 0.9904 - val_acc: 0.5063\n",
      "Epoch 4/30\n",
      "7352/7352 [==============================] - 54s 7ms/step - loss: 0.8890 - acc: 0.6119 - val_loss: 0.8544 - val_acc: 0.5877\n",
      "Epoch 5/30\n",
      "7352/7352 [==============================] - 53s 7ms/step - loss: 0.7884 - acc: 0.6469 - val_loss: 0.8368 - val_acc: 0.6064\n",
      "Epoch 6/30\n",
      "7352/7352 [==============================] - 53s 7ms/step - loss: 0.7299 - acc: 0.6673 - val_loss: 0.8442 - val_acc: 0.6206\n",
      "Epoch 7/30\n",
      "7352/7352 [==============================] - 54s 7ms/step - loss: 0.7060 - acc: 0.6719 - val_loss: 0.7821 - val_acc: 0.6413\n",
      "Epoch 8/30\n",
      "7352/7352 [==============================] - 54s 7ms/step - loss: 0.6836 - acc: 0.6934 - val_loss: 0.8071 - val_acc: 0.6569\n",
      "Epoch 9/30\n",
      "7352/7352 [==============================] - 53s 7ms/step - loss: 0.6257 - acc: 0.7401 - val_loss: 0.7323 - val_acc: 0.7207\n",
      "Epoch 10/30\n",
      "7352/7352 [==============================] - 54s 7ms/step - loss: 0.5271 - acc: 0.7809 - val_loss: 0.5827 - val_acc: 0.7577\n",
      "Epoch 11/30\n",
      "7352/7352 [==============================] - 53s 7ms/step - loss: 0.4936 - acc: 0.7973 - val_loss: 0.6477 - val_acc: 0.7560\n",
      "Epoch 12/30\n",
      "7352/7352 [==============================] - 54s 7ms/step - loss: 0.4459 - acc: 0.8190 - val_loss: 1.0538 - val_acc: 0.6888\n",
      "Epoch 13/30\n",
      "7352/7352 [==============================] - 54s 7ms/step - loss: 0.4328 - acc: 0.8448 - val_loss: 0.4854 - val_acc: 0.8307\n",
      "Epoch 14/30\n",
      "7352/7352 [==============================] - 54s 7ms/step - loss: 0.3896 - acc: 0.8862 - val_loss: 0.4873 - val_acc: 0.8541\n",
      "Epoch 15/30\n",
      "7352/7352 [==============================] - 54s 7ms/step - loss: 0.3559 - acc: 0.8988 - val_loss: 0.5624 - val_acc: 0.8663\n",
      "Epoch 16/30\n",
      "7352/7352 [==============================] - 54s 7ms/step - loss: 0.3188 - acc: 0.9038 - val_loss: 0.5747 - val_acc: 0.8554\n",
      "Epoch 17/30\n",
      "7352/7352 [==============================] - 56s 8ms/step - loss: 0.3129 - acc: 0.9059 - val_loss: 0.4251 - val_acc: 0.8809\n",
      "Epoch 18/30\n",
      "7352/7352 [==============================] - 54s 7ms/step - loss: 0.2437 - acc: 0.9248 - val_loss: 0.5486 - val_acc: 0.8782\n",
      "Epoch 19/30\n",
      "7352/7352 [==============================] - 55s 8ms/step - loss: 0.2529 - acc: 0.9222 - val_loss: 0.4392 - val_acc: 0.8839\n",
      "Epoch 20/30\n",
      "7352/7352 [==============================] - 55s 7ms/step - loss: 0.2334 - acc: 0.9237 - val_loss: 0.4329 - val_acc: 0.8829\n",
      "Epoch 21/30\n",
      "7352/7352 [==============================] - 54s 7ms/step - loss: 0.2098 - acc: 0.9297 - val_loss: 0.3995 - val_acc: 0.8911\n",
      "Epoch 22/30\n",
      "7352/7352 [==============================] - 54s 7ms/step - loss: 0.1925 - acc: 0.9351 - val_loss: 0.3273 - val_acc: 0.8955\n",
      "Epoch 23/30\n",
      "7352/7352 [==============================] - 54s 7ms/step - loss: 0.2287 - acc: 0.9276 - val_loss: 0.4782 - val_acc: 0.8816\n",
      "Epoch 24/30\n",
      "7352/7352 [==============================] - 55s 7ms/step - loss: 0.1851 - acc: 0.9385 - val_loss: 0.3071 - val_acc: 0.8979\n",
      "Epoch 25/30\n",
      "7352/7352 [==============================] - 55s 7ms/step - loss: 0.1907 - acc: 0.9382 - val_loss: 0.2706 - val_acc: 0.8945\n",
      "Epoch 26/30\n",
      "7352/7352 [==============================] - 53s 7ms/step - loss: 0.1964 - acc: 0.9363 - val_loss: 0.3275 - val_acc: 0.8996\n",
      "Epoch 27/30\n",
      "7352/7352 [==============================] - 52s 7ms/step - loss: 0.1974 - acc: 0.9389 - val_loss: 0.3041 - val_acc: 0.9002\n",
      "Epoch 28/30\n",
      "7352/7352 [==============================] - 52s 7ms/step - loss: 0.1768 - acc: 0.9404 - val_loss: 0.3480 - val_acc: 0.8931\n",
      "Epoch 29/30\n",
      "7352/7352 [==============================] - 52s 7ms/step - loss: 0.1692 - acc: 0.9436 - val_loss: 0.3796 - val_acc: 0.8992\n",
      "Epoch 30/30\n",
      "7352/7352 [==============================] - 50s 7ms/step - loss: 0.1630 - acc: 0.9465 - val_loss: 0.3716 - val_acc: 0.8901\n"
     ]
    },
    {
     "data": {
      "text/plain": [
       "<keras.callbacks.History at 0x7f3a261460b8>"
      ]
     },
     "execution_count": 23,
     "metadata": {},
     "output_type": "execute_result"
    }
   ],
   "source": [
    "# Training the model\n",
    "model1.fit(X_train, y_train, batch_size=batch_size, validation_data=(X_test, y_test), epochs=epochs)"
   ]
  },
  {
   "cell_type": "markdown",
   "metadata": {},
   "source": [
    "### Score evaluation"
   ]
  },
  {
   "cell_type": "code",
   "execution_count": 24,
   "metadata": {},
   "outputs": [
    {
     "name": "stdout",
     "output_type": "stream",
     "text": [
      "2947/2947 [==============================] - 2s 805us/step\n",
      "7352/7352 [==============================] - 5s 742us/step\n",
      "\n",
      "Validation accuracy: 0.8900576857821514\n",
      "Train Accuracy: 0.9504896626768227\n",
      "\n",
      "Validation Loss: 0.3715693044099767\n",
      "Train Loss: 0.12927464863579438\n"
     ]
    }
   ],
   "source": [
    "results = []\n",
    "#Plot the train and test loss vs number of epochs\n",
    "score_test = model1.evaluate(X_test, y_test, verbose=1) \n",
    "score_train = model1.evaluate(X_train, y_train, verbose=1) \n",
    "\n",
    "print('\\nValidation accuracy:', score_test[1])\n",
    "print('Train Accuracy:', score_train[1])\n",
    "\n",
    "print('\\nValidation Loss:', score_test[0]) \n",
    "print('Train Loss:', score_train[0])\n",
    "\n",
    "scores = [score_test[1], score_train[1], score_test[0], score_train[0]]\n",
    "results.append(scores)"
   ]
  },
  {
   "cell_type": "markdown",
   "metadata": {},
   "source": [
    "- With a simple 2 layer architecture we got 89% accuracy and a loss of 0.12. Not bad by any means, considering the fact that we did not do any feature engineering whatsoever!\n",
    "- Looking at the train and test loss, we can say there might be a small overfitting.\n",
    "- We can further improve the performace with Hyperparameter tuning. For now let's plot the Train vs Cross Validation Loss, and also the Confusion Matrix to get an idea about individual class accuracies, precisions, recalls."
   ]
  },
  {
   "cell_type": "markdown",
   "metadata": {},
   "source": [
    "### Plot the Train and Validation loss for all epochs to get an idea if our model is overfitted/underfitted."
   ]
  },
  {
   "cell_type": "code",
   "execution_count": 25,
   "metadata": {},
   "outputs": [],
   "source": [
    "history1=model1.history #Get the history object which stores all the histories of test/train/validation loss/accuracy"
   ]
  },
  {
   "cell_type": "code",
   "execution_count": 26,
   "metadata": {},
   "outputs": [
    {
     "data": {
      "image/png": "[encoded data removed]",
      "text/plain": [
       "<Figure size 432x288 with 1 Axes>"
      ]
     },
     "metadata": {
      "needs_background": "light"
     },
     "output_type": "display_data"
    }
   ],
   "source": [
    "#Plot train vs test loss\n",
    "fig,ax = plt.subplots(1,1)\n",
    "ax.set_xlabel('Epoch') ; ax.set_ylabel('Categorical Crossentropy Loss')\n",
    "\n",
    "#List of epoch numbers\n",
    "x = list(range(1,epochs+1))\n",
    "\n",
    "#Display the model\n",
    "val_loss = history1.history['val_loss'] #Validation Loss\n",
    "loss = history1.history['loss'] #Training Loss\n",
    "plt_dynamic_loss(x, val_loss, loss, ax)"
   ]
  },
  {
   "cell_type": "markdown",
   "metadata": {},
   "source": [
    "### Plot Confusion Matrices to evaluate the model."
   ]
  },
  {
   "cell_type": "code",
   "execution_count": 28,
   "metadata": {},
   "outputs": [
    {
     "data": {
      "image/png": "[encoded data removed]",
      "text/plain": [
       "<Figure size 432x360 with 2 Axes>"
      ]
     },
     "metadata": {
      "needs_background": "light"
     },
     "output_type": "display_data"
    },
    {
     "data": {
      "image/png": "[encoded data removed]",
      "text/plain": [
       "<Figure size 504x504 with 2 Axes>"
      ]
     },
     "metadata": {
      "needs_background": "light"
     },
     "output_type": "display_data"
    }
   ],
   "source": [
    "#Get the confusion matrix\n",
    "y_pred=model1.predict(X_test)\n",
    "cm_df=get_confusion_matrix(y_test, y_pred) #Prepare the confusion matrix by using get_confusion_matrix() defined above.\n",
    "classes=list(cm_df.index) #Class names = Index Names or Column Names in cm_df\n",
    "\n",
    "#Plot a Non-Normalized confusion matrix\n",
    "plot_confusion_matrix(cm_df, classes, normalize=False, title=\"NON-NORMALIZED CONFUSION MATRIX\")\n",
    "\n",
    "#Plot a Normalized confusion matrix\n",
    "plot_confusion_matrix(cm_df, classes, normalize=True, title=\"NORMALIZED CONFUSION MATRIX\")"
   ]
  },
  {
   "cell_type": "markdown",
   "metadata": {},
   "source": [
    "## Manual Hyperparameter tuning Section. "
   ]
  },
  {
   "cell_type": "markdown",
   "metadata": {},
   "source": [
    "### 2. Model with 1 LSTM Layer having 16 LSTM units"
   ]
  },
  {
   "cell_type": "code",
   "execution_count": 29,
   "metadata": {},
   "outputs": [
    {
     "name": "stdout",
     "output_type": "stream",
     "text": [
      "_________________________________________________________________\n",
      "Layer (type)                 Output Shape              Param #   \n",
      "=================================================================\n",
      "lstm_3 (LSTM)                (None, 16)                1664      \n",
      "_________________________________________________________________\n",
      "dropout_3 (Dropout)          (None, 16)                0         \n",
      "_________________________________________________________________\n",
      "dense_3 (Dense)              (None, 6)                 102       \n",
      "=================================================================\n",
      "Total params: 1,766\n",
      "Trainable params: 1,766\n",
      "Non-trainable params: 0\n",
      "_________________________________________________________________\n",
      "Train on 7352 samples, validate on 2947 samples\n",
      "Epoch 1/30\n",
      "7352/7352 [==============================] - 47s 6ms/step - loss: 1.4984 - acc: 0.3754 - val_loss: 1.2799 - val_acc: 0.4639\n",
      "Epoch 2/30\n",
      "7352/7352 [==============================] - 46s 6ms/step - loss: 1.1144 - acc: 0.5024 - val_loss: 1.0527 - val_acc: 0.5290\n",
      "Epoch 3/30\n",
      "7352/7352 [==============================] - 46s 6ms/step - loss: 0.9615 - acc: 0.5133 - val_loss: 0.9540 - val_acc: 0.5378\n",
      "Epoch 4/30\n",
      "7352/7352 [==============================] - 45s 6ms/step - loss: 0.8907 - acc: 0.5477 - val_loss: 0.8829 - val_acc: 0.6308\n",
      "Epoch 5/30\n",
      "7352/7352 [==============================] - 46s 6ms/step - loss: 0.8248 - acc: 0.5909 - val_loss: 0.8117 - val_acc: 0.6108\n",
      "Epoch 6/30\n",
      "7352/7352 [==============================] - 47s 6ms/step - loss: 0.8177 - acc: 0.6168 - val_loss: 0.8536 - val_acc: 0.6071\n",
      "Epoch 7/30\n",
      "7352/7352 [==============================] - 47s 6ms/step - loss: 0.7547 - acc: 0.6477 - val_loss: 0.7233 - val_acc: 0.6179\n",
      "Epoch 8/30\n",
      "7352/7352 [==============================] - 47s 6ms/step - loss: 0.8086 - acc: 0.6258 - val_loss: 0.7468 - val_acc: 0.5976\n",
      "Epoch 9/30\n",
      "7352/7352 [==============================] - 47s 6ms/step - loss: 0.7316 - acc: 0.6585 - val_loss: 0.7316 - val_acc: 0.6335\n",
      "Epoch 10/30\n",
      "7352/7352 [==============================] - 48s 6ms/step - loss: 0.6709 - acc: 0.6915 - val_loss: 0.6481 - val_acc: 0.6678\n",
      "Epoch 11/30\n",
      "7352/7352 [==============================] - 46s 6ms/step - loss: 0.6410 - acc: 0.7089 - val_loss: 0.6648 - val_acc: 0.7024\n",
      "Epoch 12/30\n",
      "7352/7352 [==============================] - 46s 6ms/step - loss: 0.6392 - acc: 0.7244 - val_loss: 0.6878 - val_acc: 0.6698\n",
      "Epoch 13/30\n",
      "7352/7352 [==============================] - 47s 6ms/step - loss: 0.5937 - acc: 0.7565 - val_loss: 0.7523 - val_acc: 0.7411\n",
      "Epoch 14/30\n",
      "7352/7352 [==============================] - 47s 6ms/step - loss: 0.5949 - acc: 0.7590 - val_loss: 0.6407 - val_acc: 0.7177\n",
      "Epoch 15/30\n",
      "7352/7352 [==============================] - 48s 7ms/step - loss: 0.5921 - acc: 0.7626 - val_loss: 0.5843 - val_acc: 0.7655\n",
      "Epoch 16/30\n",
      "7352/7352 [==============================] - 47s 6ms/step - loss: 0.5770 - acc: 0.7734 - val_loss: 0.6112 - val_acc: 0.7458\n",
      "Epoch 17/30\n",
      "7352/7352 [==============================] - 46s 6ms/step - loss: 0.5230 - acc: 0.7841 - val_loss: 0.6216 - val_acc: 0.7703\n",
      "Epoch 18/30\n",
      "7352/7352 [==============================] - 46s 6ms/step - loss: 0.5061 - acc: 0.7919 - val_loss: 0.6813 - val_acc: 0.7706\n",
      "Epoch 19/30\n",
      "7352/7352 [==============================] - 46s 6ms/step - loss: 0.4783 - acc: 0.8050 - val_loss: 0.6319 - val_acc: 0.7716\n",
      "Epoch 20/30\n",
      "7352/7352 [==============================] - 47s 6ms/step - loss: 0.4852 - acc: 0.7996 - val_loss: 0.6038 - val_acc: 0.7727\n",
      "Epoch 21/30\n",
      "7352/7352 [==============================] - 47s 6ms/step - loss: 0.4706 - acc: 0.8030 - val_loss: 0.6088 - val_acc: 0.7862\n",
      "Epoch 22/30\n",
      "7352/7352 [==============================] - 45s 6ms/step - loss: 0.4517 - acc: 0.8184 - val_loss: 0.5865 - val_acc: 0.7903\n",
      "Epoch 23/30\n",
      "7352/7352 [==============================] - 47s 6ms/step - loss: 0.4491 - acc: 0.8234 - val_loss: 0.5188 - val_acc: 0.8137\n",
      "Epoch 24/30\n",
      "7352/7352 [==============================] - 46s 6ms/step - loss: 0.4531 - acc: 0.8418 - val_loss: 0.5361 - val_acc: 0.8164\n",
      "Epoch 25/30\n",
      "7352/7352 [==============================] - 47s 6ms/step - loss: 0.4395 - acc: 0.8463 - val_loss: 0.4924 - val_acc: 0.8144\n",
      "Epoch 26/30\n",
      "7352/7352 [==============================] - 46s 6ms/step - loss: 0.4360 - acc: 0.8580 - val_loss: 0.5004 - val_acc: 0.8483\n",
      "Epoch 27/30\n",
      "7352/7352 [==============================] - 47s 6ms/step - loss: 0.4220 - acc: 0.8685 - val_loss: 0.5122 - val_acc: 0.8466\n",
      "Epoch 28/30\n",
      "7352/7352 [==============================] - 47s 6ms/step - loss: 0.3872 - acc: 0.8821 - val_loss: 0.4515 - val_acc: 0.8612\n",
      "Epoch 29/30\n",
      "7352/7352 [==============================] - 47s 6ms/step - loss: 0.3912 - acc: 0.8823 - val_loss: 0.4158 - val_acc: 0.8554\n",
      "Epoch 30/30\n",
      "7352/7352 [==============================] - 46s 6ms/step - loss: 0.3638 - acc: 0.8943 - val_loss: 0.4089 - val_acc: 0.8588\n"
     ]
    }
   ],
   "source": [
    "import warnings\n",
    "warnings.filterwarnings(\"ignore\")\n",
    "\n",
    "'''Initializing parameters'''\n",
    "epochs = 30\n",
    "batch_size = 16\n",
    "n_hidden = 16 #16 LSTM Units\n",
    "\n",
    "'''Define and train the model'''\n",
    "model2 = Sequential() # Initiliazing the sequential model2\n",
    "model2.add(LSTM(n_hidden, input_shape=(timesteps, input_dim))) # Configuring the parameters\n",
    "model2.add(Dropout(0.5)) # Adding a dropout layer\n",
    "model2.add(Dense(n_classes, activation='sigmoid')) # Adding a dense output layer with sigmoid activation\n",
    "model2.summary()\n",
    "model2.compile(loss='categorical_crossentropy', optimizer='rmsprop', metrics=['accuracy']) # Compiling the model\n",
    "model2.fit(X_train, y_train, batch_size=batch_size, validation_data=(X_test, y_test), epochs=epochs) # Training the model\n",
    "\n",
    "'''Get the history object which stores all the histories of test/train/validation loss/accuracy'''\n",
    "history2=model2.history "
   ]
  },
  {
   "cell_type": "code",
   "execution_count": 30,
   "metadata": {},
   "outputs": [
    {
     "name": "stdout",
     "output_type": "stream",
     "text": [
      "2947/2947 [==============================] - 2s 585us/step\n",
      "7352/7352 [==============================] - 4s 597us/step\n",
      "\n",
      "Validation accuracy: 0.8588394977943672\n",
      "Train Accuracy: 0.9390642002176278\n",
      "\n",
      "Validation Loss: 0.408878297718513\n",
      "Train Loss: 0.22015159318167352\n"
     ]
    }
   ],
   "source": [
    "'''Get the train and test loss'''\n",
    "score_test = model2.evaluate(X_test, y_test, verbose=1) \n",
    "score_train = model2.evaluate(X_train, y_train, verbose=1) \n",
    "print('\\nValidation accuracy:', score_test[1])\n",
    "print('Train Accuracy:', score_train[1])\n",
    "print('\\nValidation Loss:', score_test[0]) \n",
    "print('Train Loss:', score_train[0])\n",
    "scores = [score_test[1], score_train[1], score_test[0], score_train[0]]\n",
    "results.append(scores)"
   ]
  },
  {
   "cell_type": "markdown",
   "metadata": {},
   "source": [
    "By using just a single LSTM layer with 16 LSTM units, we have obtained a test loss of 0.22 and test accuracy of 85%. However, our model looks overfitted. We will try to reduce the overfitting by using aggressive dropouts. We will also use Batch Normalization."
   ]
  },
  {
   "cell_type": "code",
   "execution_count": 31,
   "metadata": {},
   "outputs": [
    {
     "data": {
      "image/png": "[encoded data removed]",
      "text/plain": [
       "<Figure size 432x288 with 1 Axes>"
      ]
     },
     "metadata": {
      "needs_background": "light"
     },
     "output_type": "display_data"
    }
   ],
   "source": [
    "'''Plot train vs test loss'''\n",
    "fig,ax = plt.subplots(1,1)\n",
    "ax.set_xlabel('Epoch') ; ax.set_ylabel('Categorical Crossentropy Loss')\n",
    "x = list(range(1,epochs+1)) #List of epoch numbers\n",
    "val_loss = history2.history['val_loss'] #Validation Loss\n",
    "loss = history2.history['loss'] #Training Loss\n",
    "plt_dynamic_loss(x, val_loss, loss, ax) #Display the model"
   ]
  },
  {
   "cell_type": "code",
   "execution_count": 32,
   "metadata": {
    "scrolled": true
   },
   "outputs": [
    {
     "data": {
      "image/png": "[encoded data removed]",
      "text/plain": [
       "<Figure size 432x360 with 2 Axes>"
      ]
     },
     "metadata": {
      "needs_background": "light"
     },
     "output_type": "display_data"
    },
    {
     "data": {
      "image/png": "[encoded data removed]",
      "text/plain": [
       "<Figure size 504x504 with 2 Axes>"
      ]
     },
     "metadata": {
      "needs_background": "light"
     },
     "output_type": "display_data"
    }
   ],
   "source": [
    "'''Plot the confusion matrix'''\n",
    "y_pred=model2.predict(X_test)\n",
    "cm_df=get_confusion_matrix(y_test, y_pred) #Prepare the confusion matrix by using get_confusion_matrix() defined above.\n",
    "classes=list(cm_df.index) #Class names = Index Names or Column Names in cm_df\n",
    "plot_confusion_matrix(cm_df, classes, normalize=False, title=\"NON-NORMALIZED CONFUSION MATRIX\") #Plot a Non-Normalized confusion matrix\n",
    "plot_confusion_matrix(cm_df, classes, normalize=True, title=\"NORMALIZED CONFUSION MATRIX\") #Plot a Normalized confusion matrix"
   ]
  },
  {
   "cell_type": "markdown",
   "metadata": {},
   "source": [
    "### 3. Model with 1 LSTM Layer having 64 LSTM units + Larger Dropout (0.55)"
   ]
  },
  {
   "cell_type": "code",
   "execution_count": 40,
   "metadata": {
    "scrolled": true
   },
   "outputs": [
    {
     "name": "stdout",
     "output_type": "stream",
     "text": [
      "_________________________________________________________________\n",
      "Layer (type)                 Output Shape              Param #   \n",
      "=================================================================\n",
      "lstm_9 (LSTM)                (None, 64)                18944     \n",
      "_________________________________________________________________\n",
      "dropout_9 (Dropout)          (None, 64)                0         \n",
      "_________________________________________________________________\n",
      "dense_9 (Dense)              (None, 6)                 390       \n",
      "=================================================================\n",
      "Total params: 19,334\n",
      "Trainable params: 19,334\n",
      "Non-trainable params: 0\n",
      "_________________________________________________________________\n",
      "Train on 7352 samples, validate on 2947 samples\n",
      "Epoch 1/30\n",
      "7352/7352 [==============================] - 68s 9ms/step - loss: 1.2470 - acc: 0.4550 - val_loss: 1.1369 - val_acc: 0.5205\n",
      "Epoch 2/30\n",
      "7352/7352 [==============================] - 67s 9ms/step - loss: 0.9726 - acc: 0.5812 - val_loss: 0.9422 - val_acc: 0.6071\n",
      "Epoch 3/30\n",
      "7352/7352 [==============================] - 67s 9ms/step - loss: 0.7902 - acc: 0.6379 - val_loss: 0.7634 - val_acc: 0.6206\n",
      "Epoch 4/30\n",
      "7352/7352 [==============================] - 69s 9ms/step - loss: 0.7198 - acc: 0.6751 - val_loss: 0.6591 - val_acc: 0.7428\n",
      "Epoch 5/30\n",
      "7352/7352 [==============================] - 68s 9ms/step - loss: 0.6156 - acc: 0.7539 - val_loss: 0.6252 - val_acc: 0.7486\n",
      "Epoch 6/30\n",
      "7352/7352 [==============================] - 68s 9ms/step - loss: 0.5434 - acc: 0.7927 - val_loss: 0.4893 - val_acc: 0.8032\n",
      "Epoch 7/30\n",
      "7352/7352 [==============================] - 67s 9ms/step - loss: 0.4113 - acc: 0.8592 - val_loss: 0.5105 - val_acc: 0.8351\n",
      "Epoch 8/30\n",
      "7352/7352 [==============================] - 68s 9ms/step - loss: 0.3075 - acc: 0.9082 - val_loss: 0.5747 - val_acc: 0.8487\n",
      "Epoch 9/30\n",
      "7352/7352 [==============================] - 68s 9ms/step - loss: 0.2601 - acc: 0.9237 - val_loss: 0.3617 - val_acc: 0.8907\n",
      "Epoch 10/30\n",
      "7352/7352 [==============================] - 67s 9ms/step - loss: 0.2216 - acc: 0.9302 - val_loss: 0.6213 - val_acc: 0.8439\n",
      "Epoch 11/30\n",
      "7352/7352 [==============================] - 68s 9ms/step - loss: 0.2040 - acc: 0.9334 - val_loss: 0.4425 - val_acc: 0.8948\n",
      "Epoch 12/30\n",
      "7352/7352 [==============================] - 67s 9ms/step - loss: 0.2010 - acc: 0.9344 - val_loss: 0.5266 - val_acc: 0.8768\n",
      "Epoch 13/30\n",
      "7352/7352 [==============================] - 68s 9ms/step - loss: 0.1822 - acc: 0.9339 - val_loss: 0.4610 - val_acc: 0.8687\n",
      "Epoch 14/30\n",
      "7352/7352 [==============================] - 68s 9ms/step - loss: 0.1750 - acc: 0.9396 - val_loss: 0.3207 - val_acc: 0.8945\n",
      "Epoch 15/30\n",
      "7352/7352 [==============================] - 68s 9ms/step - loss: 0.1620 - acc: 0.9404 - val_loss: 0.3109 - val_acc: 0.8931\n",
      "Epoch 16/30\n",
      "7352/7352 [==============================] - 68s 9ms/step - loss: 0.1758 - acc: 0.9377 - val_loss: 0.5108 - val_acc: 0.8867\n",
      "Epoch 17/30\n",
      "7352/7352 [==============================] - 68s 9ms/step - loss: 0.1761 - acc: 0.9422 - val_loss: 0.4355 - val_acc: 0.8819\n",
      "Epoch 18/30\n",
      "7352/7352 [==============================] - 66s 9ms/step - loss: 0.1759 - acc: 0.9395 - val_loss: 0.4305 - val_acc: 0.8839\n",
      "Epoch 19/30\n",
      "7352/7352 [==============================] - 67s 9ms/step - loss: 0.1508 - acc: 0.9463 - val_loss: 0.3910 - val_acc: 0.8948\n",
      "Epoch 20/30\n",
      "7352/7352 [==============================] - 67s 9ms/step - loss: 0.1887 - acc: 0.9393 - val_loss: 0.3554 - val_acc: 0.9019\n",
      "Epoch 21/30\n",
      "7352/7352 [==============================] - 68s 9ms/step - loss: 0.1423 - acc: 0.9470 - val_loss: 0.3703 - val_acc: 0.9067\n",
      "Epoch 22/30\n",
      "7352/7352 [==============================] - 68s 9ms/step - loss: 0.1537 - acc: 0.9467 - val_loss: 0.4798 - val_acc: 0.8958\n",
      "Epoch 23/30\n",
      "7352/7352 [==============================] - 66s 9ms/step - loss: 0.1385 - acc: 0.9487 - val_loss: 0.4028 - val_acc: 0.9006\n",
      "Epoch 24/30\n",
      "7352/7352 [==============================] - 67s 9ms/step - loss: 0.1576 - acc: 0.9446 - val_loss: 0.4037 - val_acc: 0.8955\n",
      "Epoch 25/30\n",
      "7352/7352 [==============================] - 68s 9ms/step - loss: 0.1477 - acc: 0.9490 - val_loss: 0.4876 - val_acc: 0.8979\n",
      "Epoch 26/30\n",
      "7352/7352 [==============================] - 67s 9ms/step - loss: 0.1513 - acc: 0.9482 - val_loss: 0.4360 - val_acc: 0.8965\n",
      "Epoch 27/30\n",
      "7352/7352 [==============================] - 68s 9ms/step - loss: 0.1297 - acc: 0.9494 - val_loss: 0.5645 - val_acc: 0.8948\n",
      "Epoch 28/30\n",
      "7352/7352 [==============================] - 66s 9ms/step - loss: 0.1501 - acc: 0.9463 - val_loss: 0.4700 - val_acc: 0.9067\n",
      "Epoch 29/30\n",
      "7352/7352 [==============================] - 67s 9ms/step - loss: 0.1712 - acc: 0.9406 - val_loss: 0.3684 - val_acc: 0.9002\n",
      "Epoch 30/30\n",
      "7352/7352 [==============================] - 66s 9ms/step - loss: 0.1568 - acc: 0.9470 - val_loss: 0.3439 - val_acc: 0.9046\n"
     ]
    }
   ],
   "source": [
    "import warnings\n",
    "warnings.filterwarnings(\"ignore\")\n",
    "from keras.layers.normalization import BatchNormalization\n",
    "\n",
    "'''Initializing parameters'''\n",
    "epochs = 30\n",
    "batch_size = 16\n",
    "\n",
    "model3 = Sequential()\n",
    "model3.add(LSTM(64, input_shape=(timesteps, input_dim))) \n",
    "model3.add(Dropout(0.55)) \n",
    "model3.add(Dense(n_classes, activation='sigmoid')) \n",
    "model3.summary()\n",
    "model3.compile(loss='categorical_crossentropy', optimizer='rmsprop', metrics=['accuracy']) \n",
    "model3.fit(X_train, y_train, batch_size=batch_size, validation_data=(X_test, y_test), epochs=epochs) \n",
    "\n",
    "'''Get the history object which stores all the histories of test/train/validation loss/accuracy'''\n",
    "history3=model3.history "
   ]
  },
  {
   "cell_type": "code",
   "execution_count": 41,
   "metadata": {},
   "outputs": [
    {
     "name": "stdout",
     "output_type": "stream",
     "text": [
      "2947/2947 [==============================] - 4s 1ms/step\n",
      "7352/7352 [==============================] - 10s 1ms/step\n",
      "\n",
      "Validation accuracy: 0.9046487953851374\n",
      "Train Accuracy: 0.955386289445049\n",
      "\n",
      "Validation Loss: 0.3438886410414397\n",
      "Train Loss: 0.12301450312815183\n"
     ]
    }
   ],
   "source": [
    "'''Get the train and test loss'''\n",
    "score_test = model3.evaluate(X_test, y_test, verbose=1) \n",
    "score_train = model3.evaluate(X_train, y_train, verbose=1) \n",
    "print('\\nValidation accuracy:', score_test[1])\n",
    "print('Train Accuracy:', score_train[1])\n",
    "print('\\nValidation Loss:', score_test[0]) \n",
    "print('Train Loss:', score_train[0])\n",
    "scores = [score_test[1], score_train[1], score_test[0], score_train[0]]\n",
    "results.append(scores)"
   ]
  },
  {
   "cell_type": "markdown",
   "metadata": {},
   "source": [
    "We have able to manage to increase the accuracy to more than 90. Not bad. We will experiment with some more options. We will try with 128 LSTM units and see where things goes. But, we will use a dropout of 0.5. Using 0.6 or 0.7 gave me a exploding gradient problem. Tried a few things like adding decay to the RMSProp optimizer, adding a very small epsilon value. None of them seems to work though."
   ]
  },
  {
   "cell_type": "code",
   "execution_count": 42,
   "metadata": {},
   "outputs": [
    {
     "data": {
      "image/png": "[encoded data removed]",
      "text/plain": [
       "<Figure size 432x288 with 1 Axes>"
      ]
     },
     "metadata": {
      "needs_background": "light"
     },
     "output_type": "display_data"
    }
   ],
   "source": [
    "'''Plot train vs test loss'''\n",
    "fig,ax = plt.subplots(1,1)\n",
    "ax.set_xlabel('Epoch') ; ax.set_ylabel('Categorical Crossentropy Loss')\n",
    "x = list(range(1,epochs+1)) #List of epoch numbers\n",
    "val_loss = history3.history['val_loss'] #Validation Loss\n",
    "loss = history3.history['loss'] #Training Loss\n",
    "plt_dynamic_loss(x, val_loss, loss, ax) #Display the model"
   ]
  },
  {
   "cell_type": "code",
   "execution_count": 43,
   "metadata": {},
   "outputs": [
    {
     "data": {
      "image/png": "[encoded data removed]",
      "text/plain": [
       "<Figure size 432x360 with 2 Axes>"
      ]
     },
     "metadata": {
      "needs_background": "light"
     },
     "output_type": "display_data"
    },
    {
     "data": {
      "image/png": "[encoded data removed]",
      "text/plain": [
       "<Figure size 504x504 with 2 Axes>"
      ]
     },
     "metadata": {
      "needs_background": "light"
     },
     "output_type": "display_data"
    }
   ],
   "source": [
    "'''Plot the confusion matrix'''\n",
    "y_pred=model3.predict(X_test)\n",
    "cm_df=get_confusion_matrix(y_test, y_pred) #Prepare the confusion matrix by using get_confusion_matrix() defined above.\n",
    "classes=list(cm_df.index) #Class names = Index Names or Column Names in cm_df\n",
    "plot_confusion_matrix(cm_df, classes, normalize=False, title=\"NON-NORMALIZED CONFUSION MATRIX\") #Plot a Non-Normalized confusion matrix\n",
    "plot_confusion_matrix(cm_df, classes, normalize=True, title=\"NORMALIZED CONFUSION MATRIX\") #Plot a Normalized confusion matrix"
   ]
  },
  {
   "cell_type": "markdown",
   "metadata": {},
   "source": [
    "### 4. Model with 1 LSTM Layer having 128 LSTM units + Batch Normalization"
   ]
  },
  {
   "cell_type": "code",
   "execution_count": null,
   "metadata": {},
   "outputs": [
    {
     "name": "stdout",
     "output_type": "stream",
     "text": [
      "_________________________________________________________________\n",
      "Layer (type)                 Output Shape              Param #   \n",
      "=================================================================\n",
      "lstm_11 (LSTM)               (None, 128)               70656     \n",
      "_________________________________________________________________\n",
      "batch_normalization_2 (Batch (None, 128)               512       \n",
      "_________________________________________________________________\n",
      "dropout_11 (Dropout)         (None, 128)               0         \n",
      "_________________________________________________________________\n",
      "dense_11 (Dense)             (None, 6)                 774       \n",
      "=================================================================\n",
      "Total params: 71,942\n",
      "Trainable params: 71,686\n",
      "Non-trainable params: 256\n",
      "_________________________________________________________________\n",
      "Train on 7352 samples, validate on 2947 samples\n",
      "Epoch 1/30\n",
      "7352/7352 [==============================] - 118s 16ms/step - loss: 1.0595 - acc: 0.5555 - val_loss: 0.8647 - val_acc: 0.6077\n",
      "Epoch 2/30\n",
      "7352/7352 [==============================] - 117s 16ms/step - loss: 0.8654 - acc: 0.6124 - val_loss: 0.8617 - val_acc: 0.6328\n",
      "Epoch 3/30\n",
      "7352/7352 [==============================] - 118s 16ms/step - loss: 0.6489 - acc: 0.7208 - val_loss: 0.5726 - val_acc: 0.7910\n",
      "Epoch 4/30\n",
      "7352/7352 [==============================] - 117s 16ms/step - loss: 0.4658 - acc: 0.8328 - val_loss: 0.4987 - val_acc: 0.8751\n",
      "Epoch 5/30\n",
      "7352/7352 [==============================] - 116s 16ms/step - loss: 0.4493 - acc: 0.8569 - val_loss: 0.3837 - val_acc: 0.8714\n",
      "Epoch 6/30\n",
      "7352/7352 [==============================] - 116s 16ms/step - loss: 0.2637 - acc: 0.9127 - val_loss: 2.1789 - val_acc: 0.7044\n",
      "Epoch 7/30\n",
      "7352/7352 [==============================] - 116s 16ms/step - loss: 0.2105 - acc: 0.9244 - val_loss: 0.3170 - val_acc: 0.9050\n",
      "Epoch 8/30\n",
      "7352/7352 [==============================] - 119s 16ms/step - loss: 0.1929 - acc: 0.9354 - val_loss: 0.3187 - val_acc: 0.9040\n",
      "Epoch 9/30\n",
      "5936/7352 [=======================>......] - ETA: 20s - loss: 0.1872 - acc: 0.9324"
     ]
    }
   ],
   "source": [
    "import keras\n",
    "import warnings\n",
    "warnings.filterwarnings(\"ignore\")\n",
    "\n",
    "'''Initializing parameters'''\n",
    "epochs = 30\n",
    "batch_size = 16\n",
    "\n",
    "'''Define and train the model'''\n",
    "model4 = Sequential() # Initiliazing the sequential model3\n",
    "model4.add(LSTM(128, input_shape=(timesteps, input_dim))) # Configuring the parameters\n",
    "model4.add(BatchNormalization())\n",
    "model4.add(Dropout(0.50)) # Adding a dropout layer\n",
    "model4.add(Dense(n_classes, activation='sigmoid')) # Adding a dense output layer with sigmoid activation\n",
    "model4.summary()\n",
    "optim=keras.optimizers.RMSprop(epsilon=0.00001, decay=1e-6)\n",
    "model4.compile(loss='categorical_crossentropy', optimizer=optim, metrics=['accuracy']) # Compiling the model\n",
    "model4.fit(X_train, y_train, batch_size=batch_size, validation_data=(X_test, y_test), epochs=epochs) # Training the model\n",
    "\n",
    "'''Get the history object which stores all the histories of test/train/validation loss/accuracy'''\n",
    "history4=model4.history "
   ]
  },
  {
   "cell_type": "code",
   "execution_count": null,
   "metadata": {},
   "outputs": [],
   "source": [
    "'''Get the train and test loss'''\n",
    "score_test = model4.evaluate(X_test, y_test, verbose=1) \n",
    "score_train = model4.evaluate(X_train, y_train, verbose=1) \n",
    "print('\\nValidation accuracy:', score_test[1])\n",
    "print('Train Accuracy:', score_train[1])\n",
    "print('\\nValidation Loss:', score_test[0]) \n",
    "print('Train Loss:', score_train[0])\n",
    "scores = [score_test[1], score_train[1], score_test[0], score_train[0]]\n",
    "results.append(scores)"
   ]
  },
  {
   "cell_type": "code",
   "execution_count": null,
   "metadata": {},
   "outputs": [],
   "source": [
    "'''Plot train vs test loss'''\n",
    "fig,ax = plt.subplots(1,1)\n",
    "ax.set_xlabel('Epoch') ; ax.set_ylabel('Categorical Crossentropy Loss')\n",
    "x = list(range(1,epochs+1)) #List of epoch numbers\n",
    "val_loss = history4.history['val_loss'] #Validation Loss\n",
    "loss = history4.history['loss'] #Training Loss\n",
    "plt_dynamic_loss(x, val_loss, loss, ax) #Display the model"
   ]
  },
  {
   "cell_type": "code",
   "execution_count": null,
   "metadata": {},
   "outputs": [],
   "source": [
    "'''Plot the confusion matrix'''\n",
    "y_pred=model4.predict(X_test)\n",
    "cm_df=get_confusion_matrix(y_test, y_pred) #Prepare the confusion matrix by using get_confusion_matrix() defined above.\n",
    "classes=list(cm_df.index) #Class names = Index Names or Column Names in cm_df\n",
    "plot_confusion_matrix(cm_df, classes, normalize=False, title=\"NON-NORMALIZED CONFUSION MATRIX\") #Plot a Non-Normalized confusion matrix\n",
    "plot_confusion_matrix(cm_df, classes, normalize=True, title=\"NORMALIZED CONFUSION MATRIX\") #Plot a Normalized confusion matrix"
   ]
  },
  {
   "cell_type": "markdown",
   "metadata": {},
   "source": [
    "### 5. Model with 2 LSTM Layers having 32 LSTM units + Dropout (0.5)"
   ]
  },
  {
   "cell_type": "code",
   "execution_count": null,
   "metadata": {},
   "outputs": [],
   "source": [
    "import warnings\n",
    "warnings.filterwarnings(\"ignore\")\n",
    "\n",
    "'''Initializing parameters'''\n",
    "epochs = 30\n",
    "batch_size = 16\n",
    "n_hidden = 32 #32 LSTM Units\n",
    "\n",
    "'''Define and train the model'''\n",
    "model5 = Sequential() # Initiliazing the sequential model5\n",
    "model5.add(LSTM(n_hidden, return_sequences=True, input_shape=(timesteps, input_dim))) # First LSTM Layer\n",
    "model5.add(Dropout(0.5)) # Adding a dropout layer\n",
    "model5.add(LSTM(n_hidden, input_shape=(timesteps, input_dim))) # Second LSTM Layer\n",
    "model4.add(BatchNormalization()) # Adding batch normalization\n",
    "model5.add(Dropout(0.5)) # Adding a dropout layer\n",
    "model5.add(Dense(n_classes, activation='sigmoid')) # Adding a dense output layer with sigmoid activation\n",
    "model5.summary()\n",
    "model5.compile(loss='categorical_crossentropy', optimizer='rmsprop', metrics=['accuracy']) # Compiling the model\n",
    "model5.fit(X_train, y_train, batch_size=batch_size, validation_data=(X_test, y_test), epochs=epochs) # Training the model\n",
    "\n",
    "'''Get the history object which stores all the histories of test/train/validation loss/accuracy'''\n",
    "history5=model5.history "
   ]
  },
  {
   "cell_type": "code",
   "execution_count": null,
   "metadata": {},
   "outputs": [],
   "source": [
    "'''Get the train and test loss'''\n",
    "score_test = model5.evaluate(X_test, y_test, verbose=1) \n",
    "score_train = model5.evaluate(X_train, y_train, verbose=1) \n",
    "print('\\nValidation accuracy:', score_test[1])\n",
    "print('Train Accuracy:', score_train[1])\n",
    "print('\\nValidation Loss:', score_test[0]) \n",
    "print('Train Loss:', score_train[0])\n",
    "scores = [score_test[1], score_train[1], score_test[0], score_train[0]]\n",
    "results.append(scores)"
   ]
  },
  {
   "cell_type": "code",
   "execution_count": null,
   "metadata": {},
   "outputs": [],
   "source": [
    "'''Plot train vs test loss'''\n",
    "fig,ax = plt.subplots(1,1)\n",
    "ax.set_xlabel('Epoch') ; ax.set_ylabel('Categorical Crossentropy Loss')\n",
    "x = list(range(1,epochs+1)) #List of epoch numbers\n",
    "val_loss = history5.history['val_loss'] #Validation Loss\n",
    "loss = history5.history['loss'] #Training Loss\n",
    "plt_dynamic_loss(x, val_loss, loss, ax) #Display the model"
   ]
  },
  {
   "cell_type": "code",
   "execution_count": null,
   "metadata": {},
   "outputs": [],
   "source": [
    "'''Plot the confusion matrix'''\n",
    "y_pred=model.predict(X_test)\n",
    "cm_df=get_confusion_matrix(y_test, y_pred) #Prepare the confusion matrix by using get_confusion_matrix() defined above.\n",
    "classes=list(cm_df.index) #Class names = Index Names or Column Names in cm_df\n",
    "plot_confusion_matrix(cm_df, classes, normalize=False, title=\"NON-NORMALIZED CONFUSION MATRIX\") #Plot a Non-Normalized confusion matrix\n",
    "plot_confusion_matrix(cm_df, classes, normalize=True, title=\"NORMALIZED CONFUSION MATRIX\") #Plot a Normalized confusion matrix"
   ]
  },
  {
   "cell_type": "markdown",
   "metadata": {},
   "source": [
    "### 6. Model with 2 LSTM Layers having 64 LSTM units + Larger Dropouts (0.7)"
   ]
  },
  {
   "cell_type": "code",
   "execution_count": null,
   "metadata": {},
   "outputs": [],
   "source": [
    "import warnings\n",
    "warnings.filterwarnings(\"ignore\")\n",
    "\n",
    "'''Initializing parameters'''\n",
    "epochs = 30\n",
    "batch_size = 16\n",
    "n_hidden = 64 #64 LSTM Units\n",
    "\n",
    "'''Define and train the model'''\n",
    "model6 = Sequential() # Initiliazing the sequential model6\n",
    "model6.add(LSTM(n_hidden, return_sequences=True, input_shape=(timesteps, input_dim))) # First LSTM Layer\n",
    "model6.add(Dropout(0.5)) # Adding a dropout layer\n",
    "model6.add(LSTM(n_hidden, input_shape=(timesteps, input_dim))) # Second LSTM Layer\n",
    "model6.add(Dropout(0.5)) # Adding a dropout layer\n",
    "model6.add(Dense(n_classes, activation='sigmoid')) # Adding a dense output layer with sigmoid activation\n",
    "model6.summary()\n",
    "model6.compile(loss='categorical_crossentropy', optimizer='rmsprop', metrics=['accuracy']) # Compiling the model\n",
    "model6.fit(X_train, y_train, batch_size=batch_size, validation_data=(X_test, y_test), epochs=epochs) # Training the model\n",
    "\n",
    "'''Get the history object which stores all the histories of test/train/validation loss/accuracy'''\n",
    "history6=model6.history "
   ]
  },
  {
   "cell_type": "code",
   "execution_count": null,
   "metadata": {},
   "outputs": [],
   "source": [
    "'''Get the train and test loss'''\n",
    "score_test = model6.evaluate(X_test, y_test, verbose=1) \n",
    "score_train = model6.evaluate(X_train, y_train, verbose=1) \n",
    "print('\\nValidation accuracy:', score_test[1])\n",
    "print('Train Accuracy:', score_train[1])\n",
    "print('\\nValidation Loss:', score_test[0]) \n",
    "print('Train Loss:', score_train[0])\n",
    "scores = [score_test[1], score_train[1], score_test[0], score_train[0]]\n",
    "results.append(scores)"
   ]
  },
  {
   "cell_type": "code",
   "execution_count": null,
   "metadata": {},
   "outputs": [],
   "source": [
    "'''Plot train vs test loss'''\n",
    "fig,ax = plt.subplots(1,1)\n",
    "ax.set_xlabel('Epoch') ; ax.set_ylabel('Categorical Crossentropy Loss')\n",
    "x = list(range(1,epochs+1)) #List of epoch numbers\n",
    "val_loss = history6.history['val_loss'] #Validation Loss\n",
    "loss = history6.history['loss'] #Training Loss\n",
    "plt_dynamic_loss(x, val_loss, loss, ax) #Display the model"
   ]
  },
  {
   "cell_type": "code",
   "execution_count": null,
   "metadata": {},
   "outputs": [],
   "source": [
    "'''Plot the confusion matrix'''\n",
    "y_pred=model.predict(X_test)\n",
    "cm_df=get_confusion_matrix(y_test, y_pred) #Prepare the confusion matrix by using get_confusion_matrix() defined above.\n",
    "classes=list(cm_df.index) #Class names = Index Names or Column Names in cm_df\n",
    "plot_confusion_matrix(cm_df, classes, normalize=False, title=\"NON-NORMALIZED CONFUSION MATRIX\") #Plot a Non-Normalized confusion matrix\n",
    "plot_confusion_matrix(cm_df, classes, normalize=True, title=\"NORMALIZED CONFUSION MATRIX\") #Plot a Normalized confusion matrix"
   ]
  },
  {
   "cell_type": "markdown",
   "metadata": {},
   "source": [
    "### 7. Model with 2 LSTM Layers having 64 LSTM units + Larger Dropouts (0.7) + Batch Normalization"
   ]
  },
  {
   "cell_type": "code",
   "execution_count": null,
   "metadata": {},
   "outputs": [],
   "source": [
    "import warnings\n",
    "warnings.filterwarnings(\"ignore\")\n",
    "\n",
    "'''Initializing parameters'''\n",
    "epochs = 30\n",
    "batch_size = 16\n",
    "n_hidden = 64 #64 LSTM Units\n",
    "\n",
    "'''Define and train the model'''\n",
    "model7 = Sequential() # Initiliazing the sequential model7\n",
    "model7.add(LSTM(n_hidden, return_sequences=True, input_shape=(timesteps, input_dim))) # First LSTM Layer\n",
    "model7.add(Dropout(0.5)) # Adding a dropout layer\n",
    "model7.add(LSTM(n_hidden, input_shape=(timesteps, input_dim))) # Second LSTM Layer\n",
    "model7.add(Dropout(0.5)) # Adding a dropout layer\n",
    "model7.add(Dense(n_classes, activation='sigmoid')) # Adding a dense output layer with sigmoid activation\n",
    "model7.summary()\n",
    "model7.compile(loss='categorical_crossentropy', optimizer='rmsprop', metrics=['accuracy']) # Compiling the model\n",
    "model7.fit(X_train, y_train, batch_size=batch_size, validation_data=(X_test, y_test), epochs=epochs) # Training the model\n",
    "\n",
    "'''Get the history object which stores all the histories of test/train/validation loss/accuracy'''\n",
    "history7=model7.history "
   ]
  },
  {
   "cell_type": "code",
   "execution_count": null,
   "metadata": {},
   "outputs": [],
   "source": [
    "'''Get the train and test loss'''\n",
    "score_test = model7.evaluate(X_test, y_test, verbose=1) \n",
    "score_train = model7.evaluate(X_train, y_train, verbose=1) \n",
    "print('\\nValidation accuracy:', score_test[1])\n",
    "print('Train Accuracy:', score_train[1])\n",
    "print('\\nValidation Loss:', score_test[0]) \n",
    "print('Train Loss:', score_train[0])\n",
    "scores = [score_test[1], score_train[1], score_test[0], score_train[0]]\n",
    "results.append(scores)"
   ]
  },
  {
   "cell_type": "code",
   "execution_count": null,
   "metadata": {},
   "outputs": [],
   "source": [
    "'''Plot train vs test loss'''\n",
    "fig,ax = plt.subplots(1,1)\n",
    "ax.set_xlabel('Epoch') ; ax.set_ylabel('Categorical Crossentropy Loss')\n",
    "x = list(range(1,epochs+1)) #List of epoch numbers\n",
    "val_loss = history7.history['val_loss'] #Validation Loss\n",
    "loss = history7.history['loss'] #Training Loss\n",
    "plt_dynamic_loss(x, val_loss, loss, ax) #Display the model"
   ]
  },
  {
   "cell_type": "code",
   "execution_count": null,
   "metadata": {},
   "outputs": [],
   "source": [
    "'''Plot the confusion matrix'''\n",
    "y_pred=model.predict(X_test)\n",
    "cm_df=get_confusion_matrix(y_test, y_pred) #Prepare the confusion matrix by using get_confusion_matrix() defined above.\n",
    "classes=list(cm_df.index) #Class names = Index Names or Column Names in cm_df\n",
    "plot_confusion_matrix(cm_df, classes, normalize=False, title=\"NON-NORMALIZED CONFUSION MATRIX\") #Plot a Non-Normalized confusion matrix\n",
    "plot_confusion_matrix(cm_df, classes, normalize=True, title=\"NORMALIZED CONFUSION MATRIX\") #Plot a Normalized confusion matrix"
   ]
  },
  {
   "cell_type": "markdown",
   "metadata": {},
   "source": [
    "## Hyperparameter tuning using Hyperas. "
   ]
  },
  {
   "cell_type": "code",
   "execution_count": 87,
   "metadata": {},
   "outputs": [],
   "source": [
    "from hyperopt import Trials, STATUS_OK, tpe\n",
    "from hyperas import optim\n",
    "from hyperas.distributions import choice, uniform\n",
    "from hyperopt import Trials, STATUS_OK, tpe\n",
    "from hyperas import optim\n",
    "from hyperas.distributions import choice, uniform"
   ]
  },
  {
   "cell_type": "markdown",
   "metadata": {},
   "source": [
    "### Hyperparameter tuning without data normalization"
   ]
  },
  {
   "cell_type": "code",
   "execution_count": 109,
   "metadata": {},
   "outputs": [],
   "source": [
    "X_train, X_test, y_train, y_test = load_data()"
   ]
  },
  {
   "cell_type": "code",
   "execution_count": 110,
   "metadata": {},
   "outputs": [],
   "source": [
    "#Defining a data function which is used by Hyperas. This data function directly loads train and test data from the source \n",
    "def data_func():\n",
    "    #X_train, X_test, y_train, y_test = load_data()\n",
    "    return X_train, y_train, X_test, y_test"
   ]
  },
  {
   "cell_type": "code",
   "execution_count": 111,
   "metadata": {},
   "outputs": [],
   "source": [
    "#Defining a model function \n",
    "\n",
    "def model_func(X_train, X_test, y_train, y_test):\n",
    "    \n",
    "    model = Sequential()\n",
    "    \n",
    "    if conditional({{choice(['one', 'two'])}}) == 'two':\n",
    "        model.add(LSTM(units={{choice([32,48,64,80])}}, activation={{choice(['tanh','relu','sigmoid','softplus'])}},\n",
    "                       kernel_regularizer=regularizers.l2(0.01),activity_regularizer=regularizers.l2(0.01)),\n",
    "                       input_shape=(timesteps, input_dim),return_sequences=True)\n",
    "        model.add(Dropout({{uniform(0, 1)}})) # Adding a dropout layer\n",
    "        model.add(BatchNormalization()) # Adding batch normalization\n",
    "        #Adding a second LSTM Layer\n",
    "        model.add(LSTM(units={{choice([32,48,64,80])}}, activation={{choice(['tanh','relu','sigmoid','softplus'])}},\n",
    "                       kernel_regularizer=regularizers.l2(0.01),activity_regularizer=regularizers.l2(0.01)),\n",
    "                       input_shape=(timesteps, input_dim))\n",
    "        \n",
    "    else:\n",
    "        model.add(LSTM(units={{choice([32,48,64,80])}}, activation={{choice(['tanh','relu','sigmoid','softplus'])}},\n",
    "                       kernel_regularizer=regularizers.l2(0.01),activity_regularizer=regularizers.l2(0.01)),\n",
    "                       input_shape=(timesteps, input_dim))\n",
    " \n",
    "    model.add(Dropout({{uniform(0, 1)}})) # Adding a dropout layer\n",
    "    model.add(BatchNormalization()) # Adding batch normalization \n",
    "    model.add(Dense(n_classes, activation='sigmoid')) # Adding a dense output layer with sigmoid activation    \n",
    "    \n",
    "    # Tune the optimzers\n",
    "    adam = keras.optimizers.Adam(lr={{choice([10**-3, 10**-2, 10**-1])}})\n",
    "    rmsprop = keras.optimizers.RMSprop(lr={{choice([10**-3, 10**-2, 10**-1])}})\n",
    "    sgd = keras.optimizers.SGD(lr={{choice([10**-3, 10**-2, 10**-1])}})\n",
    "    \n",
    "    choiceval = {{choice(['adam', 'sgd', 'rmsprop'])}}\n",
    "    if choiceval == 'adam':\n",
    "        optimizer = adam\n",
    "    elif choiceval == 'rmsprop':\n",
    "        optimizer = rmsprop\n",
    "    else:\n",
    "        optimizer = sgd\n",
    "    \n",
    "    model.compile(loss='categorical_crossentropy', optimizer=optimizer, metrics=['accuracy']) # Compiling the model\n",
    "    model.fit(X_train, y_train, batch_size=batch_size, validation_data=(X_test, y_test), epochs=epochs) # Training the model\n",
    "    #history=model.history \n",
    "    \n",
    "    score, accuracy = model.evaluate(X_test, y_test, verbose=0)\n",
    "    print('Test accuracy:', acc)\n",
    "    return {'loss': -accuracy, 'status': STATUS_OK, 'model': model}"
   ]
  },
  {
   "cell_type": "code",
   "execution_count": 112,
   "metadata": {
    "scrolled": true
   },
   "outputs": [
    {
     "name": "stdout",
     "output_type": "stream",
     "text": [
      ">>> Imports:\n",
      "#coding=utf-8\n",
      "\n",
      "try:\n",
      "    from IPython.core.display import display, HTML\n",
      "except:\n",
      "    pass\n",
      "\n",
      "try:\n",
      "    import pandas as pd\n",
      "except:\n",
      "    pass\n",
      "\n",
      "try:\n",
      "    import numpy as np\n",
      "except:\n",
      "    pass\n",
      "\n",
      "try:\n",
      "    import warnings\n",
      "except:\n",
      "    pass\n",
      "\n",
      "try:\n",
      "    import matplotlib.pyplot as plt\n",
      "except:\n",
      "    pass\n",
      "\n",
      "try:\n",
      "    import numpy as np\n",
      "except:\n",
      "    pass\n",
      "\n",
      "try:\n",
      "    from sklearn.metrics import confusion_matrix\n",
      "except:\n",
      "    pass\n",
      "\n",
      "try:\n",
      "    import itertools\n",
      "except:\n",
      "    pass\n",
      "\n",
      "try:\n",
      "    import seaborn as sn\n",
      "except:\n",
      "    pass\n",
      "\n",
      "try:\n",
      "    import tensorflow as tf\n",
      "except:\n",
      "    pass\n",
      "\n",
      "try:\n",
      "    from keras import backend as K\n",
      "except:\n",
      "    pass\n",
      "\n",
      "try:\n",
      "    from keras.models import Sequential\n",
      "except:\n",
      "    pass\n",
      "\n",
      "try:\n",
      "    from keras.layers import LSTM\n",
      "except:\n",
      "    pass\n",
      "\n",
      "try:\n",
      "    from keras.layers.core import Dense, Dropout\n",
      "except:\n",
      "    pass\n",
      "\n",
      "try:\n",
      "    import warnings\n",
      "except:\n",
      "    pass\n",
      "\n",
      "try:\n",
      "    import warnings\n",
      "except:\n",
      "    pass\n",
      "\n",
      "try:\n",
      "    import warnings\n",
      "except:\n",
      "    pass\n",
      "\n",
      "try:\n",
      "    import warnings\n",
      "except:\n",
      "    pass\n",
      "\n",
      "try:\n",
      "    import warnings\n",
      "except:\n",
      "    pass\n",
      "\n",
      "try:\n",
      "    import warnings\n",
      "except:\n",
      "    pass\n",
      "\n",
      "try:\n",
      "    import warnings\n",
      "except:\n",
      "    pass\n",
      "\n",
      "try:\n",
      "    from hyperopt import Trials, STATUS_OK, tpe\n",
      "except:\n",
      "    pass\n",
      "\n",
      "try:\n",
      "    from hyperas import optim\n",
      "except:\n",
      "    pass\n",
      "\n",
      "try:\n",
      "    from hyperas.distributions import choice, uniform\n",
      "except:\n",
      "    pass\n",
      "\n",
      "try:\n",
      "    from hyperopt import Trials, STATUS_OK, tpe\n",
      "except:\n",
      "    pass\n",
      "\n",
      "try:\n",
      "    from hyperas import optim\n",
      "except:\n",
      "    pass\n",
      "\n",
      "try:\n",
      "    from hyperas.distributions import choice, uniform\n",
      "except:\n",
      "    pass\n",
      "\n",
      "try:\n",
      "    from datetime import datetime as dt\n",
      "except:\n",
      "    pass\n",
      "\n",
      "try:\n",
      "    import pickle\n",
      "except:\n",
      "    pass\n",
      "\n",
      ">>> Hyperas search space:\n",
      "\n",
      "def get_space():\n",
      "    return {\n",
      "        'conditional': hp.choice('conditional', ['one', 'two']),\n",
      "        'units': hp.choice('units', [32,48,64,80]),\n",
      "        'activation': hp.choice('activation', ['tanh','relu','sigmoid','softplus']),\n",
      "        'Dropout': hp.uniform('Dropout', 0, 1),\n",
      "        'units_1': hp.choice('units_1', [32,48,64,80]),\n",
      "        'activation_1': hp.choice('activation_1', ['tanh','relu','sigmoid','softplus']),\n",
      "        'units_2': hp.choice('units_2', [32,48,64,80]),\n",
      "        'activation_2': hp.choice('activation_2', ['tanh','relu','sigmoid','softplus']),\n",
      "        'Dropout_1': hp.uniform('Dropout_1', 0, 1),\n",
      "        'lr': hp.choice('lr', [10**-3, 10**-2, 10**-1]),\n",
      "        'lr_1': hp.choice('lr_1', [10**-3, 10**-2, 10**-1]),\n",
      "        'lr_2': hp.choice('lr_2', [10**-3, 10**-2, 10**-1]),\n",
      "        'choiceval': hp.choice('choiceval', ['adam', 'sgd', 'rmsprop']),\n",
      "    }\n",
      "\n",
      ">>> Data\n",
      " 1: \n",
      " 2: #X_train, X_test, y_train, y_test = load_data()\n",
      " 3: \n",
      " 4: \n",
      " 5: \n",
      ">>> Resulting replaced keras model:\n",
      "\n",
      "   1: def keras_fmin_fnct(space):\n",
      "   2: \n",
      "   3:     \n",
      "   4:     model = Sequential()\n",
      "   5:     \n",
      "   6:     if conditional(space['conditional']) == 'two':\n",
      "   7:         model.add(LSTM(units=space['units'], activation=space['activation'],\n",
      "   8:                        kernel_regularizer=regularizers.l2(0.01),activity_regularizer=regularizers.l2(0.01)),\n",
      "   9:                        input_shape=(timesteps, input_dim),return_sequences=True)\n",
      "  10:         model.add(Dropout(space['Dropout'])) # Adding a dropout layer\n",
      "  11:         model.add(BatchNormalization()) # Adding batch normalization\n",
      "  12:         #Adding a second LSTM Layer\n",
      "  13:         model.add(LSTM(units=space['units_1'], activation=space['activation_1'],\n",
      "  14:                        kernel_regularizer=regularizers.l2(0.01),activity_regularizer=regularizers.l2(0.01)),\n",
      "  15:                        input_shape=(timesteps, input_dim))\n",
      "  16:         \n",
      "  17:     else:\n",
      "  18:         model.add(LSTM(units=space['units_2'], activation=space['activation_2'],\n",
      "  19:                        kernel_regularizer=regularizers.l2(0.01),activity_regularizer=regularizers.l2(0.01)),\n",
      "  20:                        input_shape=(timesteps, input_dim))\n",
      "  21:  \n",
      "  22:     model.add(Dropout(space['Dropout_1'])) # Adding a dropout layer\n",
      "  23:     model.add(BatchNormalization()) # Adding batch normalization \n",
      "  24:     model.add(Dense(n_classes, activation='sigmoid')) # Adding a dense output layer with sigmoid activation    \n",
      "  25:     \n",
      "  26:     # Tune the optimzers\n",
      "  27:     adam = keras.optimizers.Adam(lr=space['lr'])\n",
      "  28:     rmsprop = keras.optimizers.RMSprop(lr=space['lr_1'])\n",
      "  29:     sgd = keras.optimizers.SGD(lr=space['lr_2'])\n",
      "  30:     \n",
      "  31:     choiceval = space['choiceval']\n",
      "  32:     if choiceval == 'adam':\n",
      "  33:         optimizer = adam\n",
      "  34:     elif choiceval == 'rmsprop':\n",
      "  35:         optimizer = rmsprop\n",
      "  36:     else:\n",
      "  37:         optimizer = sgd\n",
      "  38:     \n",
      "  39:     model.compile(loss='categorical_crossentropy', optimizer=optimizer, metrics=['accuracy']) # Compiling the model\n",
      "  40:     model.fit(X_train, y_train, batch_size=batch_size, validation_data=(X_test, y_test), epochs=epochs) # Training the model\n",
      "  41:     #history=model.history \n",
      "  42:     \n",
      "  43:     score, accuracy = model.evaluate(X_test, y_test, verbose=0)\n",
      "  44:     print('Test accuracy:', acc)\n",
      "  45:     return {'loss': -accuracy, 'status': STATUS_OK, 'model': model}\n",
      "  46: \n",
      "  0%|          | 0/30 [00:00<?, ?it/s, best loss: ?]\n"
     ]
    },
    {
     "ename": "NameError",
     "evalue": "name 'conditional' is not defined",
     "output_type": "error",
     "traceback": [
      "\u001b[0;31m---------------------------------------------------------------------------\u001b[0m",
      "\u001b[0;31mNameError\u001b[0m                                 Traceback (most recent call last)",
      "\u001b[0;32m<ipython-input-112-4a6b00945e7c>\u001b[0m in \u001b[0;36m<module>\u001b[0;34m\u001b[0m\n\u001b[1;32m      8\u001b[0m                                       \u001b[0mtrials\u001b[0m\u001b[0;34m=\u001b[0m\u001b[0mTrials\u001b[0m\u001b[0;34m(\u001b[0m\u001b[0;34m)\u001b[0m\u001b[0;34m,\u001b[0m\u001b[0;34m\u001b[0m\u001b[0;34m\u001b[0m\u001b[0m\n\u001b[1;32m      9\u001b[0m                                       \u001b[0mnotebook_name\u001b[0m\u001b[0;34m=\u001b[0m\u001b[0;34m'HAR_LSTM'\u001b[0m\u001b[0;34m,\u001b[0m\u001b[0;34m\u001b[0m\u001b[0;34m\u001b[0m\u001b[0m\n\u001b[0;32m---> 10\u001b[0;31m                                       verbose=2)\n\u001b[0m\u001b[1;32m     11\u001b[0m \u001b[0;34m\u001b[0m\u001b[0m\n\u001b[1;32m     12\u001b[0m \u001b[0mprint\u001b[0m\u001b[0;34m(\u001b[0m\u001b[0;34m\"The best model is: \"\u001b[0m\u001b[0;34m,\u001b[0m\u001b[0mbest_model\u001b[0m\u001b[0;34m)\u001b[0m\u001b[0;34m\u001b[0m\u001b[0;34m\u001b[0m\u001b[0m\n",
      "\u001b[0;32m~/anaconda3/lib/python3.7/site-packages/hyperas/optim.py\u001b[0m in \u001b[0;36mminimize\u001b[0;34m(model, data, algo, max_evals, trials, functions, rseed, notebook_name, verbose, eval_space, return_space, keep_temp)\u001b[0m\n\u001b[1;32m     67\u001b[0m                                      \u001b[0mnotebook_name\u001b[0m\u001b[0;34m=\u001b[0m\u001b[0mnotebook_name\u001b[0m\u001b[0;34m,\u001b[0m\u001b[0;34m\u001b[0m\u001b[0;34m\u001b[0m\u001b[0m\n\u001b[1;32m     68\u001b[0m                                      \u001b[0mverbose\u001b[0m\u001b[0;34m=\u001b[0m\u001b[0mverbose\u001b[0m\u001b[0;34m,\u001b[0m\u001b[0;34m\u001b[0m\u001b[0;34m\u001b[0m\u001b[0m\n\u001b[0;32m---> 69\u001b[0;31m                                      keep_temp=keep_temp)\n\u001b[0m\u001b[1;32m     70\u001b[0m \u001b[0;34m\u001b[0m\u001b[0m\n\u001b[1;32m     71\u001b[0m     \u001b[0mbest_model\u001b[0m \u001b[0;34m=\u001b[0m \u001b[0;32mNone\u001b[0m\u001b[0;34m\u001b[0m\u001b[0;34m\u001b[0m\u001b[0m\n",
      "\u001b[0;32m~/anaconda3/lib/python3.7/site-packages/hyperas/optim.py\u001b[0m in \u001b[0;36mbase_minimizer\u001b[0;34m(model, data, functions, algo, max_evals, trials, rseed, full_model_string, notebook_name, verbose, stack, keep_temp)\u001b[0m\n\u001b[1;32m    137\u001b[0m              \u001b[0mtrials\u001b[0m\u001b[0;34m=\u001b[0m\u001b[0mtrials\u001b[0m\u001b[0;34m,\u001b[0m\u001b[0;34m\u001b[0m\u001b[0;34m\u001b[0m\u001b[0m\n\u001b[1;32m    138\u001b[0m              \u001b[0mrstate\u001b[0m\u001b[0;34m=\u001b[0m\u001b[0mnp\u001b[0m\u001b[0;34m.\u001b[0m\u001b[0mrandom\u001b[0m\u001b[0;34m.\u001b[0m\u001b[0mRandomState\u001b[0m\u001b[0;34m(\u001b[0m\u001b[0mrseed\u001b[0m\u001b[0;34m)\u001b[0m\u001b[0;34m,\u001b[0m\u001b[0;34m\u001b[0m\u001b[0;34m\u001b[0m\u001b[0m\n\u001b[0;32m--> 139\u001b[0;31m              return_argmin=True),\n\u001b[0m\u001b[1;32m    140\u001b[0m         \u001b[0mget_space\u001b[0m\u001b[0;34m(\u001b[0m\u001b[0;34m)\u001b[0m\u001b[0;34m\u001b[0m\u001b[0;34m\u001b[0m\u001b[0m\n\u001b[1;32m    141\u001b[0m     )\n",
      "\u001b[0;32m~/anaconda3/lib/python3.7/site-packages/hyperopt/fmin.py\u001b[0m in \u001b[0;36mfmin\u001b[0;34m(fn, space, algo, max_evals, trials, rstate, allow_trials_fmin, pass_expr_memo_ctrl, catch_eval_exceptions, verbose, return_argmin, points_to_evaluate, max_queue_len, show_progressbar)\u001b[0m\n\u001b[1;32m    386\u001b[0m             \u001b[0mcatch_eval_exceptions\u001b[0m\u001b[0;34m=\u001b[0m\u001b[0mcatch_eval_exceptions\u001b[0m\u001b[0;34m,\u001b[0m\u001b[0;34m\u001b[0m\u001b[0;34m\u001b[0m\u001b[0m\n\u001b[1;32m    387\u001b[0m             \u001b[0mreturn_argmin\u001b[0m\u001b[0;34m=\u001b[0m\u001b[0mreturn_argmin\u001b[0m\u001b[0;34m,\u001b[0m\u001b[0;34m\u001b[0m\u001b[0;34m\u001b[0m\u001b[0m\n\u001b[0;32m--> 388\u001b[0;31m             \u001b[0mshow_progressbar\u001b[0m\u001b[0;34m=\u001b[0m\u001b[0mshow_progressbar\u001b[0m\u001b[0;34m,\u001b[0m\u001b[0;34m\u001b[0m\u001b[0;34m\u001b[0m\u001b[0m\n\u001b[0m\u001b[1;32m    389\u001b[0m         )\n\u001b[1;32m    390\u001b[0m \u001b[0;34m\u001b[0m\u001b[0m\n",
      "\u001b[0;32m~/anaconda3/lib/python3.7/site-packages/hyperopt/base.py\u001b[0m in \u001b[0;36mfmin\u001b[0;34m(self, fn, space, algo, max_evals, rstate, verbose, pass_expr_memo_ctrl, catch_eval_exceptions, return_argmin, show_progressbar)\u001b[0m\n\u001b[1;32m    637\u001b[0m             \u001b[0mcatch_eval_exceptions\u001b[0m\u001b[0;34m=\u001b[0m\u001b[0mcatch_eval_exceptions\u001b[0m\u001b[0;34m,\u001b[0m\u001b[0;34m\u001b[0m\u001b[0;34m\u001b[0m\u001b[0m\n\u001b[1;32m    638\u001b[0m             \u001b[0mreturn_argmin\u001b[0m\u001b[0;34m=\u001b[0m\u001b[0mreturn_argmin\u001b[0m\u001b[0;34m,\u001b[0m\u001b[0;34m\u001b[0m\u001b[0;34m\u001b[0m\u001b[0m\n\u001b[0;32m--> 639\u001b[0;31m             show_progressbar=show_progressbar)\n\u001b[0m\u001b[1;32m    640\u001b[0m \u001b[0;34m\u001b[0m\u001b[0m\n\u001b[1;32m    641\u001b[0m \u001b[0;34m\u001b[0m\u001b[0m\n",
      "\u001b[0;32m~/anaconda3/lib/python3.7/site-packages/hyperopt/fmin.py\u001b[0m in \u001b[0;36mfmin\u001b[0;34m(fn, space, algo, max_evals, trials, rstate, allow_trials_fmin, pass_expr_memo_ctrl, catch_eval_exceptions, verbose, return_argmin, points_to_evaluate, max_queue_len, show_progressbar)\u001b[0m\n\u001b[1;32m    405\u001b[0m                     show_progressbar=show_progressbar)\n\u001b[1;32m    406\u001b[0m     \u001b[0mrval\u001b[0m\u001b[0;34m.\u001b[0m\u001b[0mcatch_eval_exceptions\u001b[0m \u001b[0;34m=\u001b[0m \u001b[0mcatch_eval_exceptions\u001b[0m\u001b[0;34m\u001b[0m\u001b[0;34m\u001b[0m\u001b[0m\n\u001b[0;32m--> 407\u001b[0;31m     \u001b[0mrval\u001b[0m\u001b[0;34m.\u001b[0m\u001b[0mexhaust\u001b[0m\u001b[0;34m(\u001b[0m\u001b[0;34m)\u001b[0m\u001b[0;34m\u001b[0m\u001b[0;34m\u001b[0m\u001b[0m\n\u001b[0m\u001b[1;32m    408\u001b[0m     \u001b[0;32mif\u001b[0m \u001b[0mreturn_argmin\u001b[0m\u001b[0;34m:\u001b[0m\u001b[0;34m\u001b[0m\u001b[0;34m\u001b[0m\u001b[0m\n\u001b[1;32m    409\u001b[0m         \u001b[0;32mreturn\u001b[0m \u001b[0mtrials\u001b[0m\u001b[0;34m.\u001b[0m\u001b[0margmin\u001b[0m\u001b[0;34m\u001b[0m\u001b[0;34m\u001b[0m\u001b[0m\n",
      "\u001b[0;32m~/anaconda3/lib/python3.7/site-packages/hyperopt/fmin.py\u001b[0m in \u001b[0;36mexhaust\u001b[0;34m(self)\u001b[0m\n\u001b[1;32m    260\u001b[0m     \u001b[0;32mdef\u001b[0m \u001b[0mexhaust\u001b[0m\u001b[0;34m(\u001b[0m\u001b[0mself\u001b[0m\u001b[0;34m)\u001b[0m\u001b[0;34m:\u001b[0m\u001b[0;34m\u001b[0m\u001b[0;34m\u001b[0m\u001b[0m\n\u001b[1;32m    261\u001b[0m         \u001b[0mn_done\u001b[0m \u001b[0;34m=\u001b[0m \u001b[0mlen\u001b[0m\u001b[0;34m(\u001b[0m\u001b[0mself\u001b[0m\u001b[0;34m.\u001b[0m\u001b[0mtrials\u001b[0m\u001b[0;34m)\u001b[0m\u001b[0;34m\u001b[0m\u001b[0;34m\u001b[0m\u001b[0m\n\u001b[0;32m--> 262\u001b[0;31m         \u001b[0mself\u001b[0m\u001b[0;34m.\u001b[0m\u001b[0mrun\u001b[0m\u001b[0;34m(\u001b[0m\u001b[0mself\u001b[0m\u001b[0;34m.\u001b[0m\u001b[0mmax_evals\u001b[0m \u001b[0;34m-\u001b[0m \u001b[0mn_done\u001b[0m\u001b[0;34m,\u001b[0m \u001b[0mblock_until_done\u001b[0m\u001b[0;34m=\u001b[0m\u001b[0mself\u001b[0m\u001b[0;34m.\u001b[0m\u001b[0masynchronous\u001b[0m\u001b[0;34m)\u001b[0m\u001b[0;34m\u001b[0m\u001b[0;34m\u001b[0m\u001b[0m\n\u001b[0m\u001b[1;32m    263\u001b[0m         \u001b[0mself\u001b[0m\u001b[0;34m.\u001b[0m\u001b[0mtrials\u001b[0m\u001b[0;34m.\u001b[0m\u001b[0mrefresh\u001b[0m\u001b[0;34m(\u001b[0m\u001b[0;34m)\u001b[0m\u001b[0;34m\u001b[0m\u001b[0;34m\u001b[0m\u001b[0m\n\u001b[1;32m    264\u001b[0m         \u001b[0;32mreturn\u001b[0m \u001b[0mself\u001b[0m\u001b[0;34m\u001b[0m\u001b[0;34m\u001b[0m\u001b[0m\n",
      "\u001b[0;32m~/anaconda3/lib/python3.7/site-packages/hyperopt/fmin.py\u001b[0m in \u001b[0;36mrun\u001b[0;34m(self, N, block_until_done)\u001b[0m\n\u001b[1;32m    225\u001b[0m                     \u001b[0;32melse\u001b[0m\u001b[0;34m:\u001b[0m\u001b[0;34m\u001b[0m\u001b[0;34m\u001b[0m\u001b[0m\n\u001b[1;32m    226\u001b[0m                         \u001b[0;31m# -- loop over trials and do the jobs directly\u001b[0m\u001b[0;34m\u001b[0m\u001b[0;34m\u001b[0m\u001b[0;34m\u001b[0m\u001b[0m\n\u001b[0;32m--> 227\u001b[0;31m                         \u001b[0mself\u001b[0m\u001b[0;34m.\u001b[0m\u001b[0mserial_evaluate\u001b[0m\u001b[0;34m(\u001b[0m\u001b[0;34m)\u001b[0m\u001b[0;34m\u001b[0m\u001b[0;34m\u001b[0m\u001b[0m\n\u001b[0m\u001b[1;32m    228\u001b[0m \u001b[0;34m\u001b[0m\u001b[0m\n\u001b[1;32m    229\u001b[0m                     \u001b[0;32mtry\u001b[0m\u001b[0;34m:\u001b[0m\u001b[0;34m\u001b[0m\u001b[0;34m\u001b[0m\u001b[0m\n",
      "\u001b[0;32m~/anaconda3/lib/python3.7/site-packages/hyperopt/fmin.py\u001b[0m in \u001b[0;36mserial_evaluate\u001b[0;34m(self, N)\u001b[0m\n\u001b[1;32m    139\u001b[0m                 \u001b[0mctrl\u001b[0m \u001b[0;34m=\u001b[0m \u001b[0mbase\u001b[0m\u001b[0;34m.\u001b[0m\u001b[0mCtrl\u001b[0m\u001b[0;34m(\u001b[0m\u001b[0mself\u001b[0m\u001b[0;34m.\u001b[0m\u001b[0mtrials\u001b[0m\u001b[0;34m,\u001b[0m \u001b[0mcurrent_trial\u001b[0m\u001b[0;34m=\u001b[0m\u001b[0mtrial\u001b[0m\u001b[0;34m)\u001b[0m\u001b[0;34m\u001b[0m\u001b[0;34m\u001b[0m\u001b[0m\n\u001b[1;32m    140\u001b[0m                 \u001b[0;32mtry\u001b[0m\u001b[0;34m:\u001b[0m\u001b[0;34m\u001b[0m\u001b[0;34m\u001b[0m\u001b[0m\n\u001b[0;32m--> 141\u001b[0;31m                     \u001b[0mresult\u001b[0m \u001b[0;34m=\u001b[0m \u001b[0mself\u001b[0m\u001b[0;34m.\u001b[0m\u001b[0mdomain\u001b[0m\u001b[0;34m.\u001b[0m\u001b[0mevaluate\u001b[0m\u001b[0;34m(\u001b[0m\u001b[0mspec\u001b[0m\u001b[0;34m,\u001b[0m \u001b[0mctrl\u001b[0m\u001b[0;34m)\u001b[0m\u001b[0;34m\u001b[0m\u001b[0;34m\u001b[0m\u001b[0m\n\u001b[0m\u001b[1;32m    142\u001b[0m                 \u001b[0;32mexcept\u001b[0m \u001b[0mException\u001b[0m \u001b[0;32mas\u001b[0m \u001b[0me\u001b[0m\u001b[0;34m:\u001b[0m\u001b[0;34m\u001b[0m\u001b[0;34m\u001b[0m\u001b[0m\n\u001b[1;32m    143\u001b[0m                     \u001b[0mlogger\u001b[0m\u001b[0;34m.\u001b[0m\u001b[0minfo\u001b[0m\u001b[0;34m(\u001b[0m\u001b[0;34m'job exception: %s'\u001b[0m \u001b[0;34m%\u001b[0m \u001b[0mstr\u001b[0m\u001b[0;34m(\u001b[0m\u001b[0me\u001b[0m\u001b[0;34m)\u001b[0m\u001b[0;34m)\u001b[0m\u001b[0;34m\u001b[0m\u001b[0;34m\u001b[0m\u001b[0m\n",
      "\u001b[0;32m~/anaconda3/lib/python3.7/site-packages/hyperopt/base.py\u001b[0m in \u001b[0;36mevaluate\u001b[0;34m(self, config, ctrl, attach_attachments)\u001b[0m\n\u001b[1;32m    842\u001b[0m                 \u001b[0mmemo\u001b[0m\u001b[0;34m=\u001b[0m\u001b[0mmemo\u001b[0m\u001b[0;34m,\u001b[0m\u001b[0;34m\u001b[0m\u001b[0;34m\u001b[0m\u001b[0m\n\u001b[1;32m    843\u001b[0m                 print_node_on_error=self.rec_eval_print_node_on_error)\n\u001b[0;32m--> 844\u001b[0;31m             \u001b[0mrval\u001b[0m \u001b[0;34m=\u001b[0m \u001b[0mself\u001b[0m\u001b[0;34m.\u001b[0m\u001b[0mfn\u001b[0m\u001b[0;34m(\u001b[0m\u001b[0mpyll_rval\u001b[0m\u001b[0;34m)\u001b[0m\u001b[0;34m\u001b[0m\u001b[0;34m\u001b[0m\u001b[0m\n\u001b[0m\u001b[1;32m    845\u001b[0m \u001b[0;34m\u001b[0m\u001b[0m\n\u001b[1;32m    846\u001b[0m         \u001b[0;32mif\u001b[0m \u001b[0misinstance\u001b[0m\u001b[0;34m(\u001b[0m\u001b[0mrval\u001b[0m\u001b[0;34m,\u001b[0m \u001b[0;34m(\u001b[0m\u001b[0mfloat\u001b[0m\u001b[0;34m,\u001b[0m \u001b[0mint\u001b[0m\u001b[0;34m,\u001b[0m \u001b[0mnp\u001b[0m\u001b[0;34m.\u001b[0m\u001b[0mnumber\u001b[0m\u001b[0;34m)\u001b[0m\u001b[0;34m)\u001b[0m\u001b[0;34m:\u001b[0m\u001b[0;34m\u001b[0m\u001b[0;34m\u001b[0m\u001b[0m\n",
      "\u001b[0;32m/mnt/48C69C47C69C3762/AAIC/Apllied AI Course Notebooks/55. Human Activity Recognition/HumanActivityRecognition/HAR/temp_model.py\u001b[0m in \u001b[0;36mkeras_fmin_fnct\u001b[0;34m(space)\u001b[0m\n",
      "\u001b[0;31mNameError\u001b[0m: name 'conditional' is not defined"
     ]
    }
   ],
   "source": [
    "from datetime import datetime as dt\n",
    "st = dt.now()\n",
    "X_train, y_train, X_test, y_test = data_func()\n",
    "best_run, best_model = optim.minimize(model=model_func,\n",
    "                                      data=data_func,\n",
    "                                      algo=tpe.suggest,\n",
    "                                      max_evals=30,\n",
    "                                      trials=Trials(),\n",
    "                                      notebook_name='HAR_LSTM',\n",
    "                                      verbose=2)\n",
    "\n",
    "print(\"The best model is: \",best_model)\n",
    "print(\"The best score is: \",best_run)\n",
    "print(\"\\nTime taken to perform Hyperparameter tuning:\",dt.now()-st)"
   ]
  },
  {
   "cell_type": "code",
   "execution_count": 77,
   "metadata": {},
   "outputs": [],
   "source": [
    "import pickle\n",
    "with open('results.pkl', 'wb') as file:\n",
    "    pickle.dump(results, file)"
   ]
  },
  {
   "cell_type": "code",
   "execution_count": null,
   "metadata": {},
   "outputs": [],
   "source": []
  },
  {
   "cell_type": "code",
   "execution_count": null,
   "metadata": {},
   "outputs": [],
   "source": []
  },
  {
   "cell_type": "code",
   "execution_count": null,
   "metadata": {},
   "outputs": [],
   "source": [
    "def model(X_train, Y_train, X_val, Y_val):\n",
    "    \n",
    "    model = Sequential()\n",
    "    model.add(Dense({{choice([128, 256, 512, 1024])}}, input_shape=(784,)))\n",
    "    model.add(Activation({{choice(['relu', 'sigmoid'])}}))\n",
    "    model.add(Dropout({{uniform(0, 1)}}))\n",
    "    model.add(Dense({{choice([128, 256, 512, 1024])}}))\n",
    "    model.add(Activation({{choice(['relu', 'sigmoid'])}}))\n",
    "    model.add(Dropout({{uniform(0, 1)}}))\n",
    "    \n",
    "    if conditional({{choice(['two', 'three'])}}) == 'three':\n",
    "        model.add(Dense({{choice([128, 256, 512, 1024])}}))\n",
    "        model.add(Activation({{choice(['relu', 'sigmoid'])}}))\n",
    "        model.add(Dropout({{uniform(0, 1)}}))\n",
    "        \n",
    "\n",
    "    model.add(Dense(10))\n",
    "    model.add(Activation('softmax'))\n",
    "\n",
    "    adam = keras.optimizers.Adam(lr={{choice([10**-3, 10**-2, 10**-1])}})\n",
    "    rmsprop = keras.optimizers.RMSprop(lr={{choice([10**-3, 10**-2, 10**-1])}})\n",
    "    sgd = keras.optimizers.SGD(lr={{choice([10**-3, 10**-2, 10**-1])}})\n",
    "   \n",
    "    choiceval = {{choice(['adam', 'sgd', 'rmsprop'])}}\n",
    "    if choiceval == 'adam':\n",
    "        optim = adam\n",
    "    elif choiceval == 'rmsprop':\n",
    "        optim = rmsprop\n",
    "    else:\n",
    "        optim = sgd\n",
    "        \n",
    "    model.compile(loss='categorical_crossentropy', metrics=['accuracy'],optimizer=optim)\n",
    "\n",
    "    model.fit(X_train, Y_train,\n",
    "              batch_size={{choice([128,256,512])}},\n",
    "              nb_epoch=20,\n",
    "              verbose=2,\n",
    "              validation_data=(X_val, Y_val))\n",
    "    score, acc = model.evaluate(X_val, Y_val, verbose=0)\n",
    "    print('Test accuracy:', acc)\n",
    "    return {'loss': -acc, 'status': STATUS_OK, 'model': model}"
   ]
  },
  {
   "cell_type": "code",
   "execution_count": null,
   "metadata": {},
   "outputs": [],
   "source": []
  },
  {
   "cell_type": "code",
   "execution_count": null,
   "metadata": {},
   "outputs": [],
   "source": []
  }
 ],
 "metadata": {
  "kernelspec": {
   "display_name": "Python 3",
   "language": "python",
   "name": "python3"
  },
  "language_info": {
   "codemirror_mode": {
    "name": "ipython",
    "version": 3
   },
   "file_extension": ".py",
   "mimetype": "text/x-python",
   "name": "python",
   "nbconvert_exporter": "python",
   "pygments_lexer": "ipython3",
   "version": "3.7.1"
  }
 },
 "nbformat": 4,
 "nbformat_minor": 2
}
